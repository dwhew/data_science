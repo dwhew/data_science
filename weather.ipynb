{
  "nbformat": 4,
  "nbformat_minor": 0,
  "metadata": {
    "colab": {
      "name": "weather.ipynb",
      "provenance": [],
      "collapsed_sections": [],
      "authorship_tag": "ABX9TyM+Bz60jXQLsh2iu+4s4vGQ",
      "include_colab_link": true
    },
    "kernelspec": {
      "name": "python3",
      "display_name": "Python 3"
    }
  },
  "cells": [
    {
      "cell_type": "markdown",
      "metadata": {
        "id": "view-in-github",
        "colab_type": "text"
      },
      "source": [
        "<a href=\"https://colab.research.google.com/github/dwhew/data_science/blob/main/weather.ipynb\" target=\"_parent\"><img src=\"https://colab.research.google.com/assets/colab-badge.svg\" alt=\"Open In Colab\"/></a>"
      ]
    },
    {
      "cell_type": "markdown",
      "metadata": {
        "id": "l-Cc40O3WPWY"
      },
      "source": [
        "What is the nicest city to live in?\r\n",
        "\r\n",
        "Notes\r\n",
        "*   warmest?\r\n",
        "*   least rain?\r\n",
        "*   has snow?\r\n",
        "*   score based on all attributes would be the most objective (maybe number of days could be a good counter and then rank/sort or use index. must prioritise attributes)\r\n",
        "\r\n",
        "\r\n",
        "\r\n",
        "\r\n"
      ]
    },
    {
      "cell_type": "code",
      "metadata": {
        "colab": {
          "base_uri": "https://localhost:8080/"
        },
        "id": "t034ybq9H82n",
        "outputId": "84c3f4e1-0454-4a85-e31e-5b31484d3b0a"
      },
      "source": [
        "!pip install -U plotly"
      ],
      "execution_count": 2,
      "outputs": [
        {
          "output_type": "stream",
          "text": [
            "Collecting plotly\n",
            "\u001b[?25l  Downloading https://files.pythonhosted.org/packages/c9/09/315462259ab7b60a3d4b7159233ed700733c87d889755bdc00a9fb46d692/plotly-4.14.1-py2.py3-none-any.whl (13.2MB)\n",
            "\u001b[K     |████████████████████████████████| 13.2MB 328kB/s \n",
            "\u001b[?25hRequirement already satisfied, skipping upgrade: six in /usr/local/lib/python3.6/dist-packages (from plotly) (1.15.0)\n",
            "Requirement already satisfied, skipping upgrade: retrying>=1.3.3 in /usr/local/lib/python3.6/dist-packages (from plotly) (1.3.3)\n",
            "Installing collected packages: plotly\n",
            "  Found existing installation: plotly 4.4.1\n",
            "    Uninstalling plotly-4.4.1:\n",
            "      Successfully uninstalled plotly-4.4.1\n",
            "Successfully installed plotly-4.14.1\n"
          ],
          "name": "stdout"
        }
      ]
    },
    {
      "cell_type": "code",
      "metadata": {
        "id": "m9ZF-8XoF1lb"
      },
      "source": [
        "import pandas as pd\r\n",
        "import matplotlib.pyplot as plt\r\n",
        "\r\n",
        "pd.options.plotting.backend = 'plotly'\r\n"
      ],
      "execution_count": 3,
      "outputs": []
    },
    {
      "cell_type": "markdown",
      "metadata": {
        "id": "Jy5QluGLMadv"
      },
      "source": [
        "## prelim exploration of data"
      ]
    },
    {
      "cell_type": "code",
      "metadata": {
        "colab": {
          "base_uri": "https://localhost:8080/",
          "height": 204
        },
        "id": "PIVYhu5TGAeF",
        "outputId": "cb37abcc-5e0b-4c62-f0cd-01fe40f688a0"
      },
      "source": [
        "inndf = pd.read_csv(r\"https://raw.githubusercontent.com/ds4geo/ds4geo/master/data/timeseries/meteo/Innsbruck_weather_2015-19.csv\")\r\n",
        "inndf.head()"
      ],
      "execution_count": 4,
      "outputs": [
        {
          "output_type": "execute_result",
          "data": {
            "text/html": [
              "<div>\n",
              "<style scoped>\n",
              "    .dataframe tbody tr th:only-of-type {\n",
              "        vertical-align: middle;\n",
              "    }\n",
              "\n",
              "    .dataframe tbody tr th {\n",
              "        vertical-align: top;\n",
              "    }\n",
              "\n",
              "    .dataframe thead th {\n",
              "        text-align: right;\n",
              "    }\n",
              "</style>\n",
              "<table border=\"1\" class=\"dataframe\">\n",
              "  <thead>\n",
              "    <tr style=\"text-align: right;\">\n",
              "      <th></th>\n",
              "      <th>date</th>\n",
              "      <th>mean_temp (deg C)</th>\n",
              "      <th>min_temp (deg C)</th>\n",
              "      <th>max_temp (deg C)</th>\n",
              "      <th>mean_pressure (mb)</th>\n",
              "      <th>mean_humidity (%)</th>\n",
              "      <th>mean_wind (ms-1)</th>\n",
              "      <th>precip_sum (mm)</th>\n",
              "      <th>month</th>\n",
              "      <th>month-year</th>\n",
              "      <th>year</th>\n",
              "    </tr>\n",
              "  </thead>\n",
              "  <tbody>\n",
              "    <tr>\n",
              "      <th>0</th>\n",
              "      <td>2015-01-01</td>\n",
              "      <td>-3.137500</td>\n",
              "      <td>-7.4</td>\n",
              "      <td>1.0</td>\n",
              "      <td>724.241667</td>\n",
              "      <td>92.458333</td>\n",
              "      <td>1.166667</td>\n",
              "      <td>0.0</td>\n",
              "      <td>Jan</td>\n",
              "      <td>Jan-2015</td>\n",
              "      <td>2015</td>\n",
              "    </tr>\n",
              "    <tr>\n",
              "      <th>1</th>\n",
              "      <td>2015-01-02</td>\n",
              "      <td>-3.341667</td>\n",
              "      <td>-9.2</td>\n",
              "      <td>1.5</td>\n",
              "      <td>721.975000</td>\n",
              "      <td>94.875000</td>\n",
              "      <td>1.125000</td>\n",
              "      <td>1.6</td>\n",
              "      <td>Jan</td>\n",
              "      <td>Jan-2015</td>\n",
              "      <td>2015</td>\n",
              "    </tr>\n",
              "    <tr>\n",
              "      <th>2</th>\n",
              "      <td>2015-01-03</td>\n",
              "      <td>1.458333</td>\n",
              "      <td>0.4</td>\n",
              "      <td>3.2</td>\n",
              "      <td>717.537500</td>\n",
              "      <td>96.833333</td>\n",
              "      <td>1.791667</td>\n",
              "      <td>13.1</td>\n",
              "      <td>Jan</td>\n",
              "      <td>Jan-2015</td>\n",
              "      <td>2015</td>\n",
              "    </tr>\n",
              "    <tr>\n",
              "      <th>3</th>\n",
              "      <td>2015-01-04</td>\n",
              "      <td>2.108333</td>\n",
              "      <td>-0.2</td>\n",
              "      <td>4.6</td>\n",
              "      <td>717.608333</td>\n",
              "      <td>79.291667</td>\n",
              "      <td>3.041667</td>\n",
              "      <td>25.9</td>\n",
              "      <td>Jan</td>\n",
              "      <td>Jan-2015</td>\n",
              "      <td>2015</td>\n",
              "    </tr>\n",
              "    <tr>\n",
              "      <th>4</th>\n",
              "      <td>2015-01-05</td>\n",
              "      <td>-0.841667</td>\n",
              "      <td>-5.3</td>\n",
              "      <td>2.4</td>\n",
              "      <td>721.662500</td>\n",
              "      <td>74.875000</td>\n",
              "      <td>2.666667</td>\n",
              "      <td>0.3</td>\n",
              "      <td>Jan</td>\n",
              "      <td>Jan-2015</td>\n",
              "      <td>2015</td>\n",
              "    </tr>\n",
              "  </tbody>\n",
              "</table>\n",
              "</div>"
            ],
            "text/plain": [
              "         date  mean_temp (deg C)  min_temp (deg C)  ...  month  month-year  year\n",
              "0  2015-01-01          -3.137500              -7.4  ...    Jan    Jan-2015  2015\n",
              "1  2015-01-02          -3.341667              -9.2  ...    Jan    Jan-2015  2015\n",
              "2  2015-01-03           1.458333               0.4  ...    Jan    Jan-2015  2015\n",
              "3  2015-01-04           2.108333              -0.2  ...    Jan    Jan-2015  2015\n",
              "4  2015-01-05          -0.841667              -5.3  ...    Jan    Jan-2015  2015\n",
              "\n",
              "[5 rows x 11 columns]"
            ]
          },
          "metadata": {
            "tags": []
          },
          "execution_count": 4
        }
      ]
    },
    {
      "cell_type": "code",
      "metadata": {
        "colab": {
          "base_uri": "https://localhost:8080/"
        },
        "id": "6NiFsEPbHlVd",
        "outputId": "f09c67c9-6ac2-467a-fac7-dca630b39795"
      },
      "source": [
        "len(inndf)/365"
      ],
      "execution_count": 5,
      "outputs": [
        {
          "output_type": "execute_result",
          "data": {
            "text/plain": [
              "5.002739726027397"
            ]
          },
          "metadata": {
            "tags": []
          },
          "execution_count": 5
        }
      ]
    },
    {
      "cell_type": "code",
      "metadata": {
        "colab": {
          "base_uri": "https://localhost:8080/"
        },
        "id": "2UDrGQw4lyIm",
        "outputId": "bb27727f-baf3-4115-e381-93d00111d789"
      },
      "source": [
        "inndf['year'].unique()"
      ],
      "execution_count": 6,
      "outputs": [
        {
          "output_type": "execute_result",
          "data": {
            "text/plain": [
              "array([2015, 2016, 2017, 2018, 2019])"
            ]
          },
          "metadata": {
            "tags": []
          },
          "execution_count": 6
        }
      ]
    },
    {
      "cell_type": "code",
      "metadata": {
        "colab": {
          "base_uri": "https://localhost:8080/"
        },
        "id": "jDWHd5OY7HxG",
        "outputId": "ec54bce7-a750-48c6-ab43-1b4ccb2ce808"
      },
      "source": [
        "len(inndf.loc[inndf['min_temp (deg C)'] < 0])/5"
      ],
      "execution_count": 7,
      "outputs": [
        {
          "output_type": "execute_result",
          "data": {
            "text/plain": [
              "99.8"
            ]
          },
          "metadata": {
            "tags": []
          },
          "execution_count": 7
        }
      ]
    },
    {
      "cell_type": "code",
      "metadata": {
        "colab": {
          "base_uri": "https://localhost:8080/"
        },
        "id": "kCJk-1nB33bZ",
        "outputId": "cf4ea007-5d71-4494-c5ae-bf6358cdd28f"
      },
      "source": [
        "inndf.dtypes"
      ],
      "execution_count": 8,
      "outputs": [
        {
          "output_type": "execute_result",
          "data": {
            "text/plain": [
              "date                   object\n",
              "mean_temp (deg C)     float64\n",
              "min_temp (deg C)      float64\n",
              "max_temp (deg C)      float64\n",
              "mean_pressure (mb)    float64\n",
              "mean_humidity (%)     float64\n",
              "mean_wind (ms-1)      float64\n",
              "precip_sum (mm)       float64\n",
              "month                  object\n",
              "month-year             object\n",
              "year                    int64\n",
              "dtype: object"
            ]
          },
          "metadata": {
            "tags": []
          },
          "execution_count": 8
        }
      ]
    },
    {
      "cell_type": "code",
      "metadata": {
        "colab": {
          "base_uri": "https://localhost:8080/"
        },
        "id": "DaQvuEYHENiP",
        "outputId": "a1e2cd5a-4c23-42c7-821a-14f891f9b246"
      },
      "source": [
        "inndf['year'].value_counts()"
      ],
      "execution_count": 9,
      "outputs": [
        {
          "output_type": "execute_result",
          "data": {
            "text/plain": [
              "2016    366\n",
              "2019    365\n",
              "2018    365\n",
              "2017    365\n",
              "2015    365\n",
              "Name: year, dtype: int64"
            ]
          },
          "metadata": {
            "tags": []
          },
          "execution_count": 9
        }
      ]
    },
    {
      "cell_type": "markdown",
      "metadata": {
        "id": "zeqth8gdMwuG"
      },
      "source": [
        " # load  city data"
      ]
    },
    {
      "cell_type": "code",
      "metadata": {
        "id": "QFvcmkKeWC1R"
      },
      "source": [
        "#inndf = pd.read_csv(r\"https://raw.githubusercontent.com/ds4geo/ds4geo/master/data/timeseries/meteo/Innsbruck_weather_2015-19.csv\")\r\n",
        "londf = pd.read_csv(r\"https://raw.githubusercontent.com/ds4geo/ds4geo/master/data/timeseries/meteo/London_weather_2015-19.csv\")\r\n",
        "sindf = pd.read_csv(r'https://raw.githubusercontent.com/ds4geo/ds4geo/master/data/timeseries/meteo/Singapore_weather_2015-19.csv')\r\n",
        "syddf = pd.read_csv(r'https://raw.githubusercontent.com/ds4geo/ds4geo/master/data/timeseries/meteo/Sydney_weather_2015-19.csv')\r\n",
        "tehdf = pd.read_csv(r'https://raw.githubusercontent.com/ds4geo/ds4geo/master/data/timeseries/meteo/Tehran_weather_2015-19.csv')\r\n",
        "\r\n",
        "\r\n",
        "\r\n"
      ],
      "execution_count": 10,
      "outputs": []
    },
    {
      "cell_type": "markdown",
      "metadata": {
        "id": "EQJ_Gk33NJuz"
      },
      "source": [
        "# Aproach 1. by number of days. I.e sunny days, perfect days...\r\n",
        "when higher no. of days is prefered for all columns/attributes, a sum of, or index could be used to objectively rate each city\r\n",
        "\r\n",
        "Idea for what to use\r\n",
        "-no rain -done\r\n",
        "-mean temp > 15\r\n",
        "-min temp > 0"
      ]
    },
    {
      "cell_type": "code",
      "metadata": {
        "id": "z1rlE5QG4hLV"
      },
      "source": [
        "#assign cities to a list for later use\r\n",
        "citylist = ['Innsbruck', 'London', 'Singapore', 'Sydney', 'Tehran']\r\n",
        "#assign dfs to list for later iterating\r\n",
        "dflist = [inndf, londf, sindf, syddf, tehdf]\r\n"
      ],
      "execution_count": 11,
      "outputs": []
    },
    {
      "cell_type": "markdown",
      "metadata": {
        "id": "POqzK3SI4qTG"
      },
      "source": [
        "## No. of days without rain (annual average)"
      ]
    },
    {
      "cell_type": "code",
      "metadata": {
        "colab": {
          "base_uri": "https://localhost:8080/"
        },
        "id": "69JhuULPfegn",
        "outputId": "9659f902-fd52-410b-dcb3-7f93b123a078"
      },
      "source": [
        "len(inndf[inndf['precip_sum (mm)'] == 0.0]) /5\r\n"
      ],
      "execution_count": 12,
      "outputs": [
        {
          "output_type": "execute_result",
          "data": {
            "text/plain": [
              "165.8"
            ]
          },
          "metadata": {
            "tags": []
          },
          "execution_count": 12
        }
      ]
    },
    {
      "cell_type": "code",
      "metadata": {
        "id": "SZtWNWx07Fcd"
      },
      "source": [
        "# Here I iterated through a list of the dataframes 'dflist'.  Usefull for when there are alot more cities and makes it easier to add more cities later\r\n",
        "\r\n",
        "\r\n",
        "NoRain = []     #no. of days without rain (annual average)\r\n",
        "AboveZero = []  #no. of days with min temp above 0\r\n",
        "NotWindy = []   #no. of days without srong wind\r\n",
        "\r\n",
        "for df in dflist:\r\n",
        "  NoRain.append(len(df[df['precip_sum (mm)'] == 0.0]) /5)\r\n",
        "  AboveZero.append(len(df[df['min_temp (deg C)'] > 0]) /5)\r\n",
        "  NotWindy.append(len(df[df['mean_wind (ms-1)'] < 4]) /5)\r\n",
        "\r\n",
        "#e.g. for readabiltiy: inn_nrain = len(inndf[inndf['precip_sum (mm)'] == 0.0])/5\r\n"
      ],
      "execution_count": 13,
      "outputs": []
    },
    {
      "cell_type": "code",
      "metadata": {
        "id": "81rfYtMtm7qv",
        "colab": {
          "base_uri": "https://localhost:8080/"
        },
        "outputId": "331c9a36-4f82-451c-87e0-abe88d4e9191"
      },
      "source": [
        "#or, create a dict\r\n",
        "stats_list = [NoRain, AboveZero, NotWindy]\r\n",
        "stats_listSTR = ['NoRain', 'AboveZero', 'NotWindy']\r\n",
        "citystats = {}\r\n",
        "\r\n",
        "for name, stat in zip(stats_listSTR, stats_list):\r\n",
        "\r\n",
        "    citystats[name] = stat\r\n",
        "\r\n",
        "\r\n",
        "citystats\r\n",
        "  "
      ],
      "execution_count": 16,
      "outputs": [
        {
          "output_type": "execute_result",
          "data": {
            "text/plain": [
              "{'AboveZero': [263.8, 342.2, 365.2, 365.2, 350.6],\n",
              " 'NoRain': [165.8, 198.0, 183.6, 205.6, 308.8],\n",
              " 'NotWindy': [332.8, 183.4, 324.2, 55.6, 291.0]}"
            ]
          },
          "metadata": {
            "tags": []
          },
          "execution_count": 16
        }
      ]
    },
    {
      "cell_type": "code",
      "metadata": {
        "id": "Aab9z9PXvE23",
        "colab": {
          "base_uri": "https://localhost:8080/",
          "height": 542
        },
        "outputId": "5d6d07ee-bfbc-4821-90b4-8ef79276b86a"
      },
      "source": [
        "#convert to DataFrame and plot\r\n",
        "\r\n",
        "cdf = pd.DataFrame.from_dict(data= citystats, orient='columns')\r\n",
        "cdf['city'] = citylist\r\n",
        "\r\n",
        "cdf = cdf.set_index('city')\r\n",
        "cdf.plot.bar()"
      ],
      "execution_count": 24,
      "outputs": [
        {
          "output_type": "display_data",
          "data": {
            "text/html": [
              "<html>\n",
              "<head><meta charset=\"utf-8\" /></head>\n",
              "<body>\n",
              "    <div>            <script src=\"https://cdnjs.cloudflare.com/ajax/libs/mathjax/2.7.5/MathJax.js?config=TeX-AMS-MML_SVG\"></script><script type=\"text/javascript\">if (window.MathJax) {MathJax.Hub.Config({SVG: {font: \"STIX-Web\"}});}</script>                <script type=\"text/javascript\">window.PlotlyConfig = {MathJaxConfig: 'local'};</script>\n",
              "        <script src=\"https://cdn.plot.ly/plotly-latest.min.js\"></script>                <div id=\"12b0d363-52a5-4c3a-9d69-a0e40bf14f7f\" class=\"plotly-graph-div\" style=\"height:525px; width:100%;\"></div>            <script type=\"text/javascript\">                                    window.PLOTLYENV=window.PLOTLYENV || {};                                    if (document.getElementById(\"12b0d363-52a5-4c3a-9d69-a0e40bf14f7f\")) {                    Plotly.newPlot(                        \"12b0d363-52a5-4c3a-9d69-a0e40bf14f7f\",                        [{\"alignmentgroup\": \"True\", \"hovertemplate\": \"variable=NoRain<br>city=%{x}<br>value=%{y}<extra></extra>\", \"legendgroup\": \"NoRain\", \"marker\": {\"color\": \"#636efa\"}, \"name\": \"NoRain\", \"offsetgroup\": \"NoRain\", \"orientation\": \"v\", \"showlegend\": true, \"textposition\": \"auto\", \"type\": \"bar\", \"x\": [\"Innsbruck\", \"London\", \"Singapore\", \"Sydney\", \"Tehran\"], \"xaxis\": \"x\", \"y\": [165.8, 198.0, 183.6, 205.6, 308.8], \"yaxis\": \"y\"}, {\"alignmentgroup\": \"True\", \"hovertemplate\": \"variable=AboveZero<br>city=%{x}<br>value=%{y}<extra></extra>\", \"legendgroup\": \"AboveZero\", \"marker\": {\"color\": \"#EF553B\"}, \"name\": \"AboveZero\", \"offsetgroup\": \"AboveZero\", \"orientation\": \"v\", \"showlegend\": true, \"textposition\": \"auto\", \"type\": \"bar\", \"x\": [\"Innsbruck\", \"London\", \"Singapore\", \"Sydney\", \"Tehran\"], \"xaxis\": \"x\", \"y\": [263.8, 342.2, 365.2, 365.2, 350.6], \"yaxis\": \"y\"}, {\"alignmentgroup\": \"True\", \"hovertemplate\": \"variable=NotWindy<br>city=%{x}<br>value=%{y}<extra></extra>\", \"legendgroup\": \"NotWindy\", \"marker\": {\"color\": \"#00cc96\"}, \"name\": \"NotWindy\", \"offsetgroup\": \"NotWindy\", \"orientation\": \"v\", \"showlegend\": true, \"textposition\": \"auto\", \"type\": \"bar\", \"x\": [\"Innsbruck\", \"London\", \"Singapore\", \"Sydney\", \"Tehran\"], \"xaxis\": \"x\", \"y\": [332.8, 183.4, 324.2, 55.6, 291.0], \"yaxis\": \"y\"}],                        {\"barmode\": \"relative\", \"legend\": {\"title\": {\"text\": \"variable\"}, \"tracegroupgap\": 0}, \"margin\": {\"t\": 60}, \"template\": {\"data\": {\"bar\": [{\"error_x\": {\"color\": \"#2a3f5f\"}, \"error_y\": {\"color\": \"#2a3f5f\"}, \"marker\": {\"line\": {\"color\": \"#E5ECF6\", \"width\": 0.5}}, \"type\": \"bar\"}], \"barpolar\": [{\"marker\": {\"line\": {\"color\": \"#E5ECF6\", \"width\": 0.5}}, \"type\": \"barpolar\"}], \"carpet\": [{\"aaxis\": {\"endlinecolor\": \"#2a3f5f\", \"gridcolor\": \"white\", \"linecolor\": \"white\", \"minorgridcolor\": \"white\", \"startlinecolor\": \"#2a3f5f\"}, \"baxis\": {\"endlinecolor\": \"#2a3f5f\", \"gridcolor\": \"white\", \"linecolor\": \"white\", \"minorgridcolor\": \"white\", \"startlinecolor\": \"#2a3f5f\"}, \"type\": \"carpet\"}], \"choropleth\": [{\"colorbar\": {\"outlinewidth\": 0, \"ticks\": \"\"}, \"type\": \"choropleth\"}], \"contour\": [{\"colorbar\": {\"outlinewidth\": 0, \"ticks\": \"\"}, \"colorscale\": [[0.0, \"#0d0887\"], [0.1111111111111111, \"#46039f\"], [0.2222222222222222, \"#7201a8\"], [0.3333333333333333, \"#9c179e\"], [0.4444444444444444, \"#bd3786\"], [0.5555555555555556, \"#d8576b\"], [0.6666666666666666, \"#ed7953\"], [0.7777777777777778, \"#fb9f3a\"], [0.8888888888888888, \"#fdca26\"], [1.0, \"#f0f921\"]], \"type\": \"contour\"}], \"contourcarpet\": [{\"colorbar\": {\"outlinewidth\": 0, \"ticks\": \"\"}, \"type\": \"contourcarpet\"}], \"heatmap\": [{\"colorbar\": {\"outlinewidth\": 0, \"ticks\": \"\"}, \"colorscale\": [[0.0, \"#0d0887\"], [0.1111111111111111, \"#46039f\"], [0.2222222222222222, \"#7201a8\"], [0.3333333333333333, \"#9c179e\"], [0.4444444444444444, \"#bd3786\"], [0.5555555555555556, \"#d8576b\"], [0.6666666666666666, \"#ed7953\"], [0.7777777777777778, \"#fb9f3a\"], [0.8888888888888888, \"#fdca26\"], [1.0, \"#f0f921\"]], \"type\": \"heatmap\"}], \"heatmapgl\": [{\"colorbar\": {\"outlinewidth\": 0, \"ticks\": \"\"}, \"colorscale\": [[0.0, \"#0d0887\"], [0.1111111111111111, \"#46039f\"], [0.2222222222222222, \"#7201a8\"], [0.3333333333333333, \"#9c179e\"], [0.4444444444444444, \"#bd3786\"], [0.5555555555555556, \"#d8576b\"], [0.6666666666666666, \"#ed7953\"], [0.7777777777777778, \"#fb9f3a\"], [0.8888888888888888, \"#fdca26\"], [1.0, \"#f0f921\"]], \"type\": \"heatmapgl\"}], \"histogram\": [{\"marker\": {\"colorbar\": {\"outlinewidth\": 0, \"ticks\": \"\"}}, \"type\": \"histogram\"}], \"histogram2d\": [{\"colorbar\": {\"outlinewidth\": 0, \"ticks\": \"\"}, \"colorscale\": [[0.0, \"#0d0887\"], [0.1111111111111111, \"#46039f\"], [0.2222222222222222, \"#7201a8\"], [0.3333333333333333, \"#9c179e\"], [0.4444444444444444, \"#bd3786\"], [0.5555555555555556, \"#d8576b\"], [0.6666666666666666, \"#ed7953\"], [0.7777777777777778, \"#fb9f3a\"], [0.8888888888888888, \"#fdca26\"], [1.0, \"#f0f921\"]], \"type\": \"histogram2d\"}], \"histogram2dcontour\": [{\"colorbar\": {\"outlinewidth\": 0, \"ticks\": \"\"}, \"colorscale\": [[0.0, \"#0d0887\"], [0.1111111111111111, \"#46039f\"], [0.2222222222222222, \"#7201a8\"], [0.3333333333333333, \"#9c179e\"], [0.4444444444444444, \"#bd3786\"], [0.5555555555555556, \"#d8576b\"], [0.6666666666666666, \"#ed7953\"], [0.7777777777777778, \"#fb9f3a\"], [0.8888888888888888, \"#fdca26\"], [1.0, \"#f0f921\"]], \"type\": \"histogram2dcontour\"}], \"mesh3d\": [{\"colorbar\": {\"outlinewidth\": 0, \"ticks\": \"\"}, \"type\": \"mesh3d\"}], \"parcoords\": [{\"line\": {\"colorbar\": {\"outlinewidth\": 0, \"ticks\": \"\"}}, \"type\": \"parcoords\"}], \"pie\": [{\"automargin\": true, \"type\": \"pie\"}], \"scatter\": [{\"marker\": {\"colorbar\": {\"outlinewidth\": 0, \"ticks\": \"\"}}, \"type\": \"scatter\"}], \"scatter3d\": [{\"line\": {\"colorbar\": {\"outlinewidth\": 0, \"ticks\": \"\"}}, \"marker\": {\"colorbar\": {\"outlinewidth\": 0, \"ticks\": \"\"}}, \"type\": \"scatter3d\"}], \"scattercarpet\": [{\"marker\": {\"colorbar\": {\"outlinewidth\": 0, \"ticks\": \"\"}}, \"type\": \"scattercarpet\"}], \"scattergeo\": [{\"marker\": {\"colorbar\": {\"outlinewidth\": 0, \"ticks\": \"\"}}, \"type\": \"scattergeo\"}], \"scattergl\": [{\"marker\": {\"colorbar\": {\"outlinewidth\": 0, \"ticks\": \"\"}}, \"type\": \"scattergl\"}], \"scattermapbox\": [{\"marker\": {\"colorbar\": {\"outlinewidth\": 0, \"ticks\": \"\"}}, \"type\": \"scattermapbox\"}], \"scatterpolar\": [{\"marker\": {\"colorbar\": {\"outlinewidth\": 0, \"ticks\": \"\"}}, \"type\": \"scatterpolar\"}], \"scatterpolargl\": [{\"marker\": {\"colorbar\": {\"outlinewidth\": 0, \"ticks\": \"\"}}, \"type\": \"scatterpolargl\"}], \"scatterternary\": [{\"marker\": {\"colorbar\": {\"outlinewidth\": 0, \"ticks\": \"\"}}, \"type\": \"scatterternary\"}], \"surface\": [{\"colorbar\": {\"outlinewidth\": 0, \"ticks\": \"\"}, \"colorscale\": [[0.0, \"#0d0887\"], [0.1111111111111111, \"#46039f\"], [0.2222222222222222, \"#7201a8\"], [0.3333333333333333, \"#9c179e\"], [0.4444444444444444, \"#bd3786\"], [0.5555555555555556, \"#d8576b\"], [0.6666666666666666, \"#ed7953\"], [0.7777777777777778, \"#fb9f3a\"], [0.8888888888888888, \"#fdca26\"], [1.0, \"#f0f921\"]], \"type\": \"surface\"}], \"table\": [{\"cells\": {\"fill\": {\"color\": \"#EBF0F8\"}, \"line\": {\"color\": \"white\"}}, \"header\": {\"fill\": {\"color\": \"#C8D4E3\"}, \"line\": {\"color\": \"white\"}}, \"type\": \"table\"}]}, \"layout\": {\"annotationdefaults\": {\"arrowcolor\": \"#2a3f5f\", \"arrowhead\": 0, \"arrowwidth\": 1}, \"autotypenumbers\": \"strict\", \"coloraxis\": {\"colorbar\": {\"outlinewidth\": 0, \"ticks\": \"\"}}, \"colorscale\": {\"diverging\": [[0, \"#8e0152\"], [0.1, \"#c51b7d\"], [0.2, \"#de77ae\"], [0.3, \"#f1b6da\"], [0.4, \"#fde0ef\"], [0.5, \"#f7f7f7\"], [0.6, \"#e6f5d0\"], [0.7, \"#b8e186\"], [0.8, \"#7fbc41\"], [0.9, \"#4d9221\"], [1, \"#276419\"]], \"sequential\": [[0.0, \"#0d0887\"], [0.1111111111111111, \"#46039f\"], [0.2222222222222222, \"#7201a8\"], [0.3333333333333333, \"#9c179e\"], [0.4444444444444444, \"#bd3786\"], [0.5555555555555556, \"#d8576b\"], [0.6666666666666666, \"#ed7953\"], [0.7777777777777778, \"#fb9f3a\"], [0.8888888888888888, \"#fdca26\"], [1.0, \"#f0f921\"]], \"sequentialminus\": [[0.0, \"#0d0887\"], [0.1111111111111111, \"#46039f\"], [0.2222222222222222, \"#7201a8\"], [0.3333333333333333, \"#9c179e\"], [0.4444444444444444, \"#bd3786\"], [0.5555555555555556, \"#d8576b\"], [0.6666666666666666, \"#ed7953\"], [0.7777777777777778, \"#fb9f3a\"], [0.8888888888888888, \"#fdca26\"], [1.0, \"#f0f921\"]]}, \"colorway\": [\"#636efa\", \"#EF553B\", \"#00cc96\", \"#ab63fa\", \"#FFA15A\", \"#19d3f3\", \"#FF6692\", \"#B6E880\", \"#FF97FF\", \"#FECB52\"], \"font\": {\"color\": \"#2a3f5f\"}, \"geo\": {\"bgcolor\": \"white\", \"lakecolor\": \"white\", \"landcolor\": \"#E5ECF6\", \"showlakes\": true, \"showland\": true, \"subunitcolor\": \"white\"}, \"hoverlabel\": {\"align\": \"left\"}, \"hovermode\": \"closest\", \"mapbox\": {\"style\": \"light\"}, \"paper_bgcolor\": \"white\", \"plot_bgcolor\": \"#E5ECF6\", \"polar\": {\"angularaxis\": {\"gridcolor\": \"white\", \"linecolor\": \"white\", \"ticks\": \"\"}, \"bgcolor\": \"#E5ECF6\", \"radialaxis\": {\"gridcolor\": \"white\", \"linecolor\": \"white\", \"ticks\": \"\"}}, \"scene\": {\"xaxis\": {\"backgroundcolor\": \"#E5ECF6\", \"gridcolor\": \"white\", \"gridwidth\": 2, \"linecolor\": \"white\", \"showbackground\": true, \"ticks\": \"\", \"zerolinecolor\": \"white\"}, \"yaxis\": {\"backgroundcolor\": \"#E5ECF6\", \"gridcolor\": \"white\", \"gridwidth\": 2, \"linecolor\": \"white\", \"showbackground\": true, \"ticks\": \"\", \"zerolinecolor\": \"white\"}, \"zaxis\": {\"backgroundcolor\": \"#E5ECF6\", \"gridcolor\": \"white\", \"gridwidth\": 2, \"linecolor\": \"white\", \"showbackground\": true, \"ticks\": \"\", \"zerolinecolor\": \"white\"}}, \"shapedefaults\": {\"line\": {\"color\": \"#2a3f5f\"}}, \"ternary\": {\"aaxis\": {\"gridcolor\": \"white\", \"linecolor\": \"white\", \"ticks\": \"\"}, \"baxis\": {\"gridcolor\": \"white\", \"linecolor\": \"white\", \"ticks\": \"\"}, \"bgcolor\": \"#E5ECF6\", \"caxis\": {\"gridcolor\": \"white\", \"linecolor\": \"white\", \"ticks\": \"\"}}, \"title\": {\"x\": 0.05}, \"xaxis\": {\"automargin\": true, \"gridcolor\": \"white\", \"linecolor\": \"white\", \"ticks\": \"\", \"title\": {\"standoff\": 15}, \"zerolinecolor\": \"white\", \"zerolinewidth\": 2}, \"yaxis\": {\"automargin\": true, \"gridcolor\": \"white\", \"linecolor\": \"white\", \"ticks\": \"\", \"title\": {\"standoff\": 15}, \"zerolinecolor\": \"white\", \"zerolinewidth\": 2}}}, \"xaxis\": {\"anchor\": \"y\", \"domain\": [0.0, 1.0], \"title\": {\"text\": \"city\"}}, \"yaxis\": {\"anchor\": \"x\", \"domain\": [0.0, 1.0], \"title\": {\"text\": \"value\"}}},                        {\"responsive\": true}                    ).then(function(){\n",
              "                            \n",
              "var gd = document.getElementById('12b0d363-52a5-4c3a-9d69-a0e40bf14f7f');\n",
              "var x = new MutationObserver(function (mutations, observer) {{\n",
              "        var display = window.getComputedStyle(gd).display;\n",
              "        if (!display || display === 'none') {{\n",
              "            console.log([gd, 'removed!']);\n",
              "            Plotly.purge(gd);\n",
              "            observer.disconnect();\n",
              "        }}\n",
              "}});\n",
              "\n",
              "// Listen for the removal of the full notebook cells\n",
              "var notebookContainer = gd.closest('#notebook-container');\n",
              "if (notebookContainer) {{\n",
              "    x.observe(notebookContainer, {childList: true});\n",
              "}}\n",
              "\n",
              "// Listen for the clearing of the current output cell\n",
              "var outputEl = gd.closest('.output');\n",
              "if (outputEl) {{\n",
              "    x.observe(outputEl, {childList: true});\n",
              "}}\n",
              "\n",
              "                        })                };                            </script>        </div>\n",
              "</body>\n",
              "</html>"
            ]
          },
          "metadata": {
            "tags": []
          }
        }
      ]
    },
    {
      "cell_type": "code",
      "metadata": {
        "id": "xT-eM9KBORA0"
      },
      "source": [
        "#perfect days\r\n",
        "inn_perf = inndf[(inndf[\"precip_sum (mm)\"] == 0.0) & (inndf[\"max_temp (deg C)\"] > 25) & (inndf[\"min_temp (deg C)\"] > 10) & (inndf[\"mean_wind (ms-1)\"] < 4)]\r\n",
        "inn_perf"
      ],
      "execution_count": null,
      "outputs": []
    },
    {
      "cell_type": "markdown",
      "metadata": {
        "id": "hTkGQEGm5ffF"
      },
      "source": [
        "note for later: barometric pressure over 1022.689 mb indicates clear and stable (google.com)"
      ]
    },
    {
      "cell_type": "markdown",
      "metadata": {
        "id": "Lu6elJICNdak"
      },
      "source": [
        "# Aproach 2. group by months"
      ]
    },
    {
      "cell_type": "code",
      "metadata": {
        "id": "lxlt5cmEqRt7"
      },
      "source": [
        "#get average day by month\r\n",
        "month_ordered = ['Jan', 'Feb', 'Mar', 'Apr', 'May', 'Jun', 'Jul', 'Aug', 'Sep', 'Oct', 'Nov', 'Dec']\r\n",
        "\r\n",
        "inndf_months = inndf.groupby(by=['month']).mean().reindex(month_ordered).drop(columns=['year'])\r\n",
        "londf_months = londf.groupby(by=['month']).mean().reindex(month_ordered).drop(columns=['year'])\r\n",
        "sindf_months = sindf.groupby(by=['month']).mean().reindex(month_ordered).drop(columns=['year'])\r\n",
        "syddf_months = syddf.groupby(by=['month']).mean().reindex(month_ordered).drop(columns=['year'])\r\n",
        "tehdf_months = tehdf.groupby(by=['month']).mean().reindex(month_ordered).drop(columns=['year'])\r\n",
        "\r\n"
      ],
      "execution_count": null,
      "outputs": []
    },
    {
      "cell_type": "code",
      "metadata": {
        "id": "bBgDe5vyuvTj"
      },
      "source": [
        "#compare two data frames \r\n",
        "inndf_months.compare(londf_months, keep_equal=True)"
      ],
      "execution_count": null,
      "outputs": []
    },
    {
      "cell_type": "code",
      "metadata": {
        "id": "ivctS5VBuMh2"
      },
      "source": [
        "# using the sum (total) of monthly rianfall would be better\r\n",
        "# create new dfs for groupby.sum()\r\n",
        "\r\n",
        "for i in dflist:\r\n",
        "  exec(str(i) + '_sum = ' + str(i) + '.groupby(by=[\\'month\\']).sum().reindex(month_ordered)')\r\n",
        "\r\n",
        "# substitute the rainfall data into inndf_months (and divide by no. of years)\r\n",
        "\r\n",
        "for i in dflist:\r\n",
        "  exec(str(i) + '_months[\\'precip_sum (mm)\\'] = ' + str(i) + '_sum[\\'precip_sum (mm)\\']/5')\r\n",
        "\r\n",
        "#check a df\r\n",
        "londf_months\r\n"
      ],
      "execution_count": null,
      "outputs": []
    },
    {
      "cell_type": "code",
      "metadata": {
        "id": "7687j8ZTz6rh"
      },
      "source": [
        "sindf_months"
      ],
      "execution_count": null,
      "outputs": []
    },
    {
      "cell_type": "code",
      "metadata": {
        "id": "TAfQWFXyuK6z"
      },
      "source": [
        "#graphs\r\n",
        "\r\n",
        "\r\n",
        "\r\n",
        "\r\n"
      ],
      "execution_count": null,
      "outputs": []
    },
    {
      "cell_type": "code",
      "metadata": {
        "id": "gEHCKuo5PeZu"
      },
      "source": [
        "#plot on same graph\r\n",
        "\r\n",
        "plt.plot(inndf_months['precip_sum (mm)'])\r\n",
        "plt.plot(londf_months['precip_sum (mm)'])\r\n",
        "plt.plot(sindf_months['precip_sum (mm)'])\r\n",
        "plt.plot(syddf_months['precip_sum (mm)'])\r\n",
        "plt.plot(tehdf_months['precip_sum (mm)'])\r\n",
        "plt.title('Monthly Average Rainfall')\r\n",
        "plt.xlabel('Month')\r\n",
        "plt.ylabel('rainfall (mm)')\r\n",
        "plt.legend(citylist)\r\n",
        "plt.show()"
      ],
      "execution_count": null,
      "outputs": []
    },
    {
      "cell_type": "markdown",
      "metadata": {
        "id": "qJm34e6MNjUG"
      },
      "source": [
        "# statistical comparisons"
      ]
    },
    {
      "cell_type": "code",
      "metadata": {
        "id": "lmQwMkRt11Cy"
      },
      "source": [
        "\r\n",
        "# Analysis of Variance Test (ANOVA) \r\n",
        "from scipy.stats import f_oneway\r\n",
        "\r\n",
        "#compare mean temperatures between innsbruck and london\r\n",
        "stat, p = f_oneway(inndf_months['precip_sum (mm)'], londf_months['precip_sum (mm)'])\r\n",
        "print('stat=%.3f, p=%.3f' % (stat, p))\r\n",
        "if p > 0.05:\r\n",
        "\tprint('Not Significantly different')\r\n",
        "else:\r\n",
        "\tprint('Significantly different')\r\n"
      ],
      "execution_count": null,
      "outputs": []
    },
    {
      "cell_type": "code",
      "metadata": {
        "id": "rqMTAVj_Hqxt"
      },
      "source": [
        ""
      ],
      "execution_count": null,
      "outputs": []
    }
  ]
}