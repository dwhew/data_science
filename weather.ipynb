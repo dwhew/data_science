{
  "nbformat": 4,
  "nbformat_minor": 0,
  "metadata": {
    "colab": {
      "name": "weather.ipynb",
      "provenance": [],
      "collapsed_sections": [],
      "authorship_tag": "ABX9TyM9DfRVugz5zGKgv5PY0tn8",
      "include_colab_link": true
    },
    "kernelspec": {
      "name": "python3",
      "display_name": "Python 3"
    }
  },
  "cells": [
    {
      "cell_type": "markdown",
      "metadata": {
        "id": "view-in-github",
        "colab_type": "text"
      },
      "source": [
        "<a href=\"https://colab.research.google.com/github/dwhew/data_science/blob/main/weather.ipynb\" target=\"_parent\"><img src=\"https://colab.research.google.com/assets/colab-badge.svg\" alt=\"Open In Colab\"/></a>"
      ]
    },
    {
      "cell_type": "markdown",
      "metadata": {
        "id": "l-Cc40O3WPWY"
      },
      "source": [
        "What is the nicest city to live in?\r\n",
        "\r\n",
        "Notes\r\n",
        "*   warmest?\r\n",
        "*   least rain?\r\n",
        "*   has snow?\r\n",
        "*   score based on all attributes would be the most objective (maybe number of days could be a good counter and then rank/sort or use index. must prioritise attributes)\r\n",
        "\r\n",
        "\r\n",
        "\r\n",
        "\r\n"
      ]
    },
    {
      "cell_type": "code",
      "metadata": {
        "id": "m9ZF-8XoF1lb"
      },
      "source": [
        "import pandas as pd\r\n",
        "import matplotlib.pyplot as plt\r\n",
        "import scipy\r\n",
        "\r\n"
      ],
      "execution_count": 1,
      "outputs": []
    },
    {
      "cell_type": "markdown",
      "metadata": {
        "id": "Jy5QluGLMadv"
      },
      "source": [
        "## prelim experimention with data"
      ]
    },
    {
      "cell_type": "code",
      "metadata": {
        "colab": {
          "base_uri": "https://localhost:8080/",
          "height": 204
        },
        "id": "PIVYhu5TGAeF",
        "outputId": "ec4863e9-ac53-422d-e247-ba787ccfe1d2"
      },
      "source": [
        "inndf = pd.read_csv(r\"https://raw.githubusercontent.com/ds4geo/ds4geo/master/data/timeseries/meteo/Innsbruck_weather_2015-19.csv\")\r\n",
        "inndf.head()"
      ],
      "execution_count": 2,
      "outputs": [
        {
          "output_type": "execute_result",
          "data": {
            "text/html": [
              "<div>\n",
              "<style scoped>\n",
              "    .dataframe tbody tr th:only-of-type {\n",
              "        vertical-align: middle;\n",
              "    }\n",
              "\n",
              "    .dataframe tbody tr th {\n",
              "        vertical-align: top;\n",
              "    }\n",
              "\n",
              "    .dataframe thead th {\n",
              "        text-align: right;\n",
              "    }\n",
              "</style>\n",
              "<table border=\"1\" class=\"dataframe\">\n",
              "  <thead>\n",
              "    <tr style=\"text-align: right;\">\n",
              "      <th></th>\n",
              "      <th>date</th>\n",
              "      <th>mean_temp (deg C)</th>\n",
              "      <th>min_temp (deg C)</th>\n",
              "      <th>max_temp (deg C)</th>\n",
              "      <th>mean_pressure (mb)</th>\n",
              "      <th>mean_humidity (%)</th>\n",
              "      <th>mean_wind (ms-1)</th>\n",
              "      <th>precip_sum (mm)</th>\n",
              "      <th>month</th>\n",
              "      <th>month-year</th>\n",
              "      <th>year</th>\n",
              "    </tr>\n",
              "  </thead>\n",
              "  <tbody>\n",
              "    <tr>\n",
              "      <th>0</th>\n",
              "      <td>2015-01-01</td>\n",
              "      <td>-3.137500</td>\n",
              "      <td>-7.4</td>\n",
              "      <td>1.0</td>\n",
              "      <td>724.241667</td>\n",
              "      <td>92.458333</td>\n",
              "      <td>1.166667</td>\n",
              "      <td>0.0</td>\n",
              "      <td>Jan</td>\n",
              "      <td>Jan-2015</td>\n",
              "      <td>2015</td>\n",
              "    </tr>\n",
              "    <tr>\n",
              "      <th>1</th>\n",
              "      <td>2015-01-02</td>\n",
              "      <td>-3.341667</td>\n",
              "      <td>-9.2</td>\n",
              "      <td>1.5</td>\n",
              "      <td>721.975000</td>\n",
              "      <td>94.875000</td>\n",
              "      <td>1.125000</td>\n",
              "      <td>1.6</td>\n",
              "      <td>Jan</td>\n",
              "      <td>Jan-2015</td>\n",
              "      <td>2015</td>\n",
              "    </tr>\n",
              "    <tr>\n",
              "      <th>2</th>\n",
              "      <td>2015-01-03</td>\n",
              "      <td>1.458333</td>\n",
              "      <td>0.4</td>\n",
              "      <td>3.2</td>\n",
              "      <td>717.537500</td>\n",
              "      <td>96.833333</td>\n",
              "      <td>1.791667</td>\n",
              "      <td>13.1</td>\n",
              "      <td>Jan</td>\n",
              "      <td>Jan-2015</td>\n",
              "      <td>2015</td>\n",
              "    </tr>\n",
              "    <tr>\n",
              "      <th>3</th>\n",
              "      <td>2015-01-04</td>\n",
              "      <td>2.108333</td>\n",
              "      <td>-0.2</td>\n",
              "      <td>4.6</td>\n",
              "      <td>717.608333</td>\n",
              "      <td>79.291667</td>\n",
              "      <td>3.041667</td>\n",
              "      <td>25.9</td>\n",
              "      <td>Jan</td>\n",
              "      <td>Jan-2015</td>\n",
              "      <td>2015</td>\n",
              "    </tr>\n",
              "    <tr>\n",
              "      <th>4</th>\n",
              "      <td>2015-01-05</td>\n",
              "      <td>-0.841667</td>\n",
              "      <td>-5.3</td>\n",
              "      <td>2.4</td>\n",
              "      <td>721.662500</td>\n",
              "      <td>74.875000</td>\n",
              "      <td>2.666667</td>\n",
              "      <td>0.3</td>\n",
              "      <td>Jan</td>\n",
              "      <td>Jan-2015</td>\n",
              "      <td>2015</td>\n",
              "    </tr>\n",
              "  </tbody>\n",
              "</table>\n",
              "</div>"
            ],
            "text/plain": [
              "         date  mean_temp (deg C)  min_temp (deg C)  ...  month  month-year  year\n",
              "0  2015-01-01          -3.137500              -7.4  ...    Jan    Jan-2015  2015\n",
              "1  2015-01-02          -3.341667              -9.2  ...    Jan    Jan-2015  2015\n",
              "2  2015-01-03           1.458333               0.4  ...    Jan    Jan-2015  2015\n",
              "3  2015-01-04           2.108333              -0.2  ...    Jan    Jan-2015  2015\n",
              "4  2015-01-05          -0.841667              -5.3  ...    Jan    Jan-2015  2015\n",
              "\n",
              "[5 rows x 11 columns]"
            ]
          },
          "metadata": {
            "tags": []
          },
          "execution_count": 2
        }
      ]
    },
    {
      "cell_type": "code",
      "metadata": {
        "colab": {
          "base_uri": "https://localhost:8080/"
        },
        "id": "6NiFsEPbHlVd",
        "outputId": "ea9492c2-11ec-4149-cbf2-f56c4e9b258b"
      },
      "source": [
        "len(inndf)/365"
      ],
      "execution_count": 3,
      "outputs": [
        {
          "output_type": "execute_result",
          "data": {
            "text/plain": [
              "5.002739726027397"
            ]
          },
          "metadata": {
            "tags": []
          },
          "execution_count": 3
        }
      ]
    },
    {
      "cell_type": "code",
      "metadata": {
        "colab": {
          "base_uri": "https://localhost:8080/"
        },
        "id": "2UDrGQw4lyIm",
        "outputId": "f777071c-e528-45f8-fc3a-66f158d6d554"
      },
      "source": [
        "inndf['year'].unique()"
      ],
      "execution_count": 4,
      "outputs": [
        {
          "output_type": "execute_result",
          "data": {
            "text/plain": [
              "array([2015, 2016, 2017, 2018, 2019])"
            ]
          },
          "metadata": {
            "tags": []
          },
          "execution_count": 4
        }
      ]
    },
    {
      "cell_type": "code",
      "metadata": {
        "colab": {
          "base_uri": "https://localhost:8080/"
        },
        "id": "jDWHd5OY7HxG",
        "outputId": "3f5ebbff-0695-459c-e398-631ef73fae7f"
      },
      "source": [
        "len(inndf.loc[inndf['min_temp (deg C)'] < 0])/5"
      ],
      "execution_count": 5,
      "outputs": [
        {
          "output_type": "execute_result",
          "data": {
            "text/plain": [
              "99.8"
            ]
          },
          "metadata": {
            "tags": []
          },
          "execution_count": 5
        }
      ]
    },
    {
      "cell_type": "code",
      "metadata": {
        "colab": {
          "base_uri": "https://localhost:8080/"
        },
        "id": "kCJk-1nB33bZ",
        "outputId": "f3e92a48-3a1d-419e-cfa2-86f30a09517e"
      },
      "source": [
        "inndf.dtypes"
      ],
      "execution_count": 6,
      "outputs": [
        {
          "output_type": "execute_result",
          "data": {
            "text/plain": [
              "date                   object\n",
              "mean_temp (deg C)     float64\n",
              "min_temp (deg C)      float64\n",
              "max_temp (deg C)      float64\n",
              "mean_pressure (mb)    float64\n",
              "mean_humidity (%)     float64\n",
              "mean_wind (ms-1)      float64\n",
              "precip_sum (mm)       float64\n",
              "month                  object\n",
              "month-year             object\n",
              "year                    int64\n",
              "dtype: object"
            ]
          },
          "metadata": {
            "tags": []
          },
          "execution_count": 6
        }
      ]
    },
    {
      "cell_type": "code",
      "metadata": {
        "colab": {
          "base_uri": "https://localhost:8080/"
        },
        "id": "DaQvuEYHENiP",
        "outputId": "3b69a901-39ff-4bd8-8a3f-0b176dd9c1b4"
      },
      "source": [
        "inndf['year'].value_counts()"
      ],
      "execution_count": 7,
      "outputs": [
        {
          "output_type": "execute_result",
          "data": {
            "text/plain": [
              "2016    366\n",
              "2019    365\n",
              "2018    365\n",
              "2017    365\n",
              "2015    365\n",
              "Name: year, dtype: int64"
            ]
          },
          "metadata": {
            "tags": []
          },
          "execution_count": 7
        }
      ]
    },
    {
      "cell_type": "markdown",
      "metadata": {
        "id": "zeqth8gdMwuG"
      },
      "source": [
        " # load  city data"
      ]
    },
    {
      "cell_type": "code",
      "metadata": {
        "id": "QFvcmkKeWC1R"
      },
      "source": [
        "#inndf = pd.read_csv(r\"https://raw.githubusercontent.com/ds4geo/ds4geo/master/data/timeseries/meteo/Innsbruck_weather_2015-19.csv\")\r\n",
        "londf = pd.read_csv(r\"https://raw.githubusercontent.com/ds4geo/ds4geo/master/data/timeseries/meteo/London_weather_2015-19.csv\")\r\n",
        "sindf = pd.read_csv(r'https://raw.githubusercontent.com/ds4geo/ds4geo/master/data/timeseries/meteo/Singapore_weather_2015-19.csv')\r\n",
        "syddf = pd.read_csv(r'https://raw.githubusercontent.com/ds4geo/ds4geo/master/data/timeseries/meteo/Sydney_weather_2015-19.csv')\r\n",
        "tehdf = pd.read_csv(r'https://raw.githubusercontent.com/ds4geo/ds4geo/master/data/timeseries/meteo/Tehran_weather_2015-19.csv')\r\n",
        "\r\n",
        "\r\n",
        "\r\n"
      ],
      "execution_count": 8,
      "outputs": []
    },
    {
      "cell_type": "markdown",
      "metadata": {
        "id": "EQJ_Gk33NJuz"
      },
      "source": [
        "# Aproach 1. by number of days. I.e sunny days, perfect days...\r\n",
        "when higher no. of days is prefered for all columns/attributes, a sum of, or index could be used to objectively rate each city\r\n",
        "\r\n",
        "Idea for what to use\r\n",
        "-no rain -done\r\n",
        "-mean temp > 15\r\n",
        "-min temp > 0"
      ]
    },
    {
      "cell_type": "code",
      "metadata": {
        "id": "z1rlE5QG4hLV"
      },
      "source": [
        "#assign cities to a list for later use\r\n",
        "citylist = ['Innsbruck', 'London', 'Singapore', 'Sydney', 'Tehran']\r\n",
        "#assign dfs to list for later iterating\r\n",
        "dflist = ['inndf', 'londf', 'sindf', 'syddf', 'tehdf']"
      ],
      "execution_count": 9,
      "outputs": []
    },
    {
      "cell_type": "markdown",
      "metadata": {
        "id": "POqzK3SI4qTG"
      },
      "source": [
        "## No. of days without rain (annual average)"
      ]
    },
    {
      "cell_type": "code",
      "metadata": {
        "id": "SZtWNWx07Fcd"
      },
      "source": [
        "# Here I iterated through a list of the dataframes 'dflist'. this is neater than writing the code for each city but hard to read. would be really usefull for when there are alot more cities. \r\n",
        "# it would also make it easier to add more cities later\r\n",
        "\r\n",
        "#no. of days without rain (annual average)\r\n",
        "for i in dflist:\r\n",
        "  exec(str(i) + '_nrain = len(' + str(i) + '[' + str(i) + '[\\'precip_sum (mm)\\'] == 0.0]) /5')\r\n",
        "#e.g. for readabiltiy: inn_nrain = len(inndf[inndf['precip_sum (mm)'] == 0.0]) /5\r\n",
        "\r\n"
      ],
      "execution_count": 10,
      "outputs": []
    },
    {
      "cell_type": "code",
      "metadata": {
        "colab": {
          "base_uri": "https://localhost:8080/",
          "height": 419
        },
        "id": "xT-eM9KBORA0",
        "outputId": "703d9364-8683-4c17-d14f-9fbbe98a330c"
      },
      "source": [
        "#perfect days\r\n",
        "inn_perf = inndf[(inndf[\"precip_sum (mm)\"] == 0.0) & (inndf[\"max_temp (deg C)\"] > 25) & (inndf[\"min_temp (deg C)\"] > 10) & (inndf[\"mean_wind (ms-1)\"] < 4)]\r\n",
        "inn_perf"
      ],
      "execution_count": 11,
      "outputs": [
        {
          "output_type": "execute_result",
          "data": {
            "text/html": [
              "<div>\n",
              "<style scoped>\n",
              "    .dataframe tbody tr th:only-of-type {\n",
              "        vertical-align: middle;\n",
              "    }\n",
              "\n",
              "    .dataframe tbody tr th {\n",
              "        vertical-align: top;\n",
              "    }\n",
              "\n",
              "    .dataframe thead th {\n",
              "        text-align: right;\n",
              "    }\n",
              "</style>\n",
              "<table border=\"1\" class=\"dataframe\">\n",
              "  <thead>\n",
              "    <tr style=\"text-align: right;\">\n",
              "      <th></th>\n",
              "      <th>date</th>\n",
              "      <th>mean_temp (deg C)</th>\n",
              "      <th>min_temp (deg C)</th>\n",
              "      <th>max_temp (deg C)</th>\n",
              "      <th>mean_pressure (mb)</th>\n",
              "      <th>mean_humidity (%)</th>\n",
              "      <th>mean_wind (ms-1)</th>\n",
              "      <th>precip_sum (mm)</th>\n",
              "      <th>month</th>\n",
              "      <th>month-year</th>\n",
              "      <th>year</th>\n",
              "    </tr>\n",
              "  </thead>\n",
              "  <tbody>\n",
              "    <tr>\n",
              "      <th>137</th>\n",
              "      <td>2015-05-18</td>\n",
              "      <td>18.804167</td>\n",
              "      <td>12.4</td>\n",
              "      <td>27.8</td>\n",
              "      <td>708.341667</td>\n",
              "      <td>62.708333</td>\n",
              "      <td>2.500000</td>\n",
              "      <td>0.0</td>\n",
              "      <td>May</td>\n",
              "      <td>May-2015</td>\n",
              "      <td>2015</td>\n",
              "    </tr>\n",
              "    <tr>\n",
              "      <th>155</th>\n",
              "      <td>2015-06-05</td>\n",
              "      <td>24.300000</td>\n",
              "      <td>15.0</td>\n",
              "      <td>32.1</td>\n",
              "      <td>714.460000</td>\n",
              "      <td>59.700000</td>\n",
              "      <td>1.900000</td>\n",
              "      <td>0.0</td>\n",
              "      <td>Jun</td>\n",
              "      <td>Jun-2015</td>\n",
              "      <td>2015</td>\n",
              "    </tr>\n",
              "    <tr>\n",
              "      <th>176</th>\n",
              "      <td>2015-06-26</td>\n",
              "      <td>19.410000</td>\n",
              "      <td>10.1</td>\n",
              "      <td>25.7</td>\n",
              "      <td>714.620000</td>\n",
              "      <td>57.400000</td>\n",
              "      <td>2.000000</td>\n",
              "      <td>0.0</td>\n",
              "      <td>Jun</td>\n",
              "      <td>Jun-2015</td>\n",
              "      <td>2015</td>\n",
              "    </tr>\n",
              "    <tr>\n",
              "      <th>179</th>\n",
              "      <td>2015-06-29</td>\n",
              "      <td>20.310000</td>\n",
              "      <td>12.6</td>\n",
              "      <td>26.3</td>\n",
              "      <td>714.800000</td>\n",
              "      <td>60.800000</td>\n",
              "      <td>1.600000</td>\n",
              "      <td>0.0</td>\n",
              "      <td>Jun</td>\n",
              "      <td>Jun-2015</td>\n",
              "      <td>2015</td>\n",
              "    </tr>\n",
              "    <tr>\n",
              "      <th>180</th>\n",
              "      <td>2015-06-30</td>\n",
              "      <td>21.830000</td>\n",
              "      <td>12.5</td>\n",
              "      <td>29.3</td>\n",
              "      <td>714.460000</td>\n",
              "      <td>58.000000</td>\n",
              "      <td>1.800000</td>\n",
              "      <td>0.0</td>\n",
              "      <td>Jun</td>\n",
              "      <td>Jun-2015</td>\n",
              "      <td>2015</td>\n",
              "    </tr>\n",
              "    <tr>\n",
              "      <th>...</th>\n",
              "      <td>...</td>\n",
              "      <td>...</td>\n",
              "      <td>...</td>\n",
              "      <td>...</td>\n",
              "      <td>...</td>\n",
              "      <td>...</td>\n",
              "      <td>...</td>\n",
              "      <td>...</td>\n",
              "      <td>...</td>\n",
              "      <td>...</td>\n",
              "      <td>...</td>\n",
              "    </tr>\n",
              "    <tr>\n",
              "      <th>1702</th>\n",
              "      <td>2019-08-30</td>\n",
              "      <td>20.079167</td>\n",
              "      <td>13.3</td>\n",
              "      <td>28.0</td>\n",
              "      <td>715.533333</td>\n",
              "      <td>74.083333</td>\n",
              "      <td>1.750000</td>\n",
              "      <td>0.0</td>\n",
              "      <td>Aug</td>\n",
              "      <td>Aug-2019</td>\n",
              "      <td>2019</td>\n",
              "    </tr>\n",
              "    <tr>\n",
              "      <th>1703</th>\n",
              "      <td>2019-08-31</td>\n",
              "      <td>20.912500</td>\n",
              "      <td>13.5</td>\n",
              "      <td>30.1</td>\n",
              "      <td>712.175000</td>\n",
              "      <td>68.958333</td>\n",
              "      <td>3.416667</td>\n",
              "      <td>0.0</td>\n",
              "      <td>Aug</td>\n",
              "      <td>Aug-2019</td>\n",
              "      <td>2019</td>\n",
              "    </tr>\n",
              "    <tr>\n",
              "      <th>1718</th>\n",
              "      <td>2019-09-15</td>\n",
              "      <td>18.520833</td>\n",
              "      <td>11.1</td>\n",
              "      <td>27.8</td>\n",
              "      <td>717.195833</td>\n",
              "      <td>75.875000</td>\n",
              "      <td>1.375000</td>\n",
              "      <td>0.0</td>\n",
              "      <td>Sep</td>\n",
              "      <td>Sep-2019</td>\n",
              "      <td>2019</td>\n",
              "    </tr>\n",
              "    <tr>\n",
              "      <th>1719</th>\n",
              "      <td>2019-09-16</td>\n",
              "      <td>18.666667</td>\n",
              "      <td>11.7</td>\n",
              "      <td>27.9</td>\n",
              "      <td>713.920833</td>\n",
              "      <td>73.666667</td>\n",
              "      <td>1.416667</td>\n",
              "      <td>0.0</td>\n",
              "      <td>Sep</td>\n",
              "      <td>Sep-2019</td>\n",
              "      <td>2019</td>\n",
              "    </tr>\n",
              "    <tr>\n",
              "      <th>1720</th>\n",
              "      <td>2019-09-17</td>\n",
              "      <td>18.079167</td>\n",
              "      <td>12.1</td>\n",
              "      <td>25.1</td>\n",
              "      <td>711.529167</td>\n",
              "      <td>73.375000</td>\n",
              "      <td>1.333333</td>\n",
              "      <td>0.0</td>\n",
              "      <td>Sep</td>\n",
              "      <td>Sep-2019</td>\n",
              "      <td>2019</td>\n",
              "    </tr>\n",
              "  </tbody>\n",
              "</table>\n",
              "<p>139 rows × 11 columns</p>\n",
              "</div>"
            ],
            "text/plain": [
              "            date  mean_temp (deg C)  min_temp (deg C)  ...  month  month-year  year\n",
              "137   2015-05-18          18.804167              12.4  ...    May    May-2015  2015\n",
              "155   2015-06-05          24.300000              15.0  ...    Jun    Jun-2015  2015\n",
              "176   2015-06-26          19.410000              10.1  ...    Jun    Jun-2015  2015\n",
              "179   2015-06-29          20.310000              12.6  ...    Jun    Jun-2015  2015\n",
              "180   2015-06-30          21.830000              12.5  ...    Jun    Jun-2015  2015\n",
              "...          ...                ...               ...  ...    ...         ...   ...\n",
              "1702  2019-08-30          20.079167              13.3  ...    Aug    Aug-2019  2019\n",
              "1703  2019-08-31          20.912500              13.5  ...    Aug    Aug-2019  2019\n",
              "1718  2019-09-15          18.520833              11.1  ...    Sep    Sep-2019  2019\n",
              "1719  2019-09-16          18.666667              11.7  ...    Sep    Sep-2019  2019\n",
              "1720  2019-09-17          18.079167              12.1  ...    Sep    Sep-2019  2019\n",
              "\n",
              "[139 rows x 11 columns]"
            ]
          },
          "metadata": {
            "tags": []
          },
          "execution_count": 11
        }
      ]
    },
    {
      "cell_type": "code",
      "metadata": {
        "colab": {
          "base_uri": "https://localhost:8080/",
          "height": 204
        },
        "id": "YDthbamPanak",
        "outputId": "87c46bf4-1270-4292-d7a6-bea93d1f629e"
      },
      "source": [
        "#create new dataframe\r\n",
        "citystats = pd.DataFrame({'City': citylist })\r\n",
        "citystats['Days of no rain'] = [inndf_nrain, londf_nrain, sindf_nrain, syddf_nrain, tehdf_nrain]\r\n",
        "citystats.sort_values(by=['Days of no rain'], ascending=False)"
      ],
      "execution_count": 12,
      "outputs": [
        {
          "output_type": "execute_result",
          "data": {
            "text/html": [
              "<div>\n",
              "<style scoped>\n",
              "    .dataframe tbody tr th:only-of-type {\n",
              "        vertical-align: middle;\n",
              "    }\n",
              "\n",
              "    .dataframe tbody tr th {\n",
              "        vertical-align: top;\n",
              "    }\n",
              "\n",
              "    .dataframe thead th {\n",
              "        text-align: right;\n",
              "    }\n",
              "</style>\n",
              "<table border=\"1\" class=\"dataframe\">\n",
              "  <thead>\n",
              "    <tr style=\"text-align: right;\">\n",
              "      <th></th>\n",
              "      <th>City</th>\n",
              "      <th>Days of no rain</th>\n",
              "    </tr>\n",
              "  </thead>\n",
              "  <tbody>\n",
              "    <tr>\n",
              "      <th>4</th>\n",
              "      <td>Tehran</td>\n",
              "      <td>308.8</td>\n",
              "    </tr>\n",
              "    <tr>\n",
              "      <th>3</th>\n",
              "      <td>Sydney</td>\n",
              "      <td>205.6</td>\n",
              "    </tr>\n",
              "    <tr>\n",
              "      <th>1</th>\n",
              "      <td>London</td>\n",
              "      <td>198.0</td>\n",
              "    </tr>\n",
              "    <tr>\n",
              "      <th>2</th>\n",
              "      <td>Singapore</td>\n",
              "      <td>183.6</td>\n",
              "    </tr>\n",
              "    <tr>\n",
              "      <th>0</th>\n",
              "      <td>Innsbruck</td>\n",
              "      <td>165.8</td>\n",
              "    </tr>\n",
              "  </tbody>\n",
              "</table>\n",
              "</div>"
            ],
            "text/plain": [
              "        City  Days of no rain\n",
              "4     Tehran            308.8\n",
              "3     Sydney            205.6\n",
              "1     London            198.0\n",
              "2  Singapore            183.6\n",
              "0  Innsbruck            165.8"
            ]
          },
          "metadata": {
            "tags": []
          },
          "execution_count": 12
        }
      ]
    },
    {
      "cell_type": "markdown",
      "metadata": {
        "id": "hTkGQEGm5ffF"
      },
      "source": [
        "note for later: barometric pressure over 1022.689 mb indicates clear and stable (google.com)"
      ]
    },
    {
      "cell_type": "markdown",
      "metadata": {
        "id": "Lu6elJICNdak"
      },
      "source": [
        "# Aproach 2. group by months"
      ]
    },
    {
      "cell_type": "code",
      "metadata": {
        "id": "lxlt5cmEqRt7"
      },
      "source": [
        "#get average day by month\r\n",
        "month_ordered = ['Jan', 'Feb', 'Mar', 'Apr', 'May', 'Jun', 'Jul', 'Aug', 'Sep', 'Oct', 'Nov', 'Dec']\r\n",
        "\r\n",
        "inndf_months = inndf.groupby(by=['month']).mean().reindex(month_ordered).drop(columns=['year'])\r\n",
        "londf_months = londf.groupby(by=['month']).mean().reindex(month_ordered).drop(columns=['year'])\r\n",
        "sindf_months = sindf.groupby(by=['month']).mean().reindex(month_ordered).drop(columns=['year'])\r\n",
        "syddf_months = syddf.groupby(by=['month']).mean().reindex(month_ordered).drop(columns=['year'])\r\n",
        "tehdf_months = tehdf.groupby(by=['month']).mean().reindex(month_ordered).drop(columns=['year'])\r\n",
        "\r\n"
      ],
      "execution_count": 13,
      "outputs": []
    },
    {
      "cell_type": "code",
      "metadata": {
        "colab": {
          "base_uri": "https://localhost:8080/",
          "height": 483
        },
        "id": "bBgDe5vyuvTj",
        "outputId": "72aa34d3-0d4e-4d18-e4ba-e08f438ffca7"
      },
      "source": [
        "#compare two data frames \r\n",
        "inndf_months.compare(londf_months, keep_equal=True)"
      ],
      "execution_count": 14,
      "outputs": [
        {
          "output_type": "execute_result",
          "data": {
            "text/html": [
              "<div>\n",
              "<style scoped>\n",
              "    .dataframe tbody tr th:only-of-type {\n",
              "        vertical-align: middle;\n",
              "    }\n",
              "\n",
              "    .dataframe tbody tr th {\n",
              "        vertical-align: top;\n",
              "    }\n",
              "\n",
              "    .dataframe thead tr th {\n",
              "        text-align: left;\n",
              "    }\n",
              "\n",
              "    .dataframe thead tr:last-of-type th {\n",
              "        text-align: right;\n",
              "    }\n",
              "</style>\n",
              "<table border=\"1\" class=\"dataframe\">\n",
              "  <thead>\n",
              "    <tr>\n",
              "      <th></th>\n",
              "      <th colspan=\"2\" halign=\"left\">mean_temp (deg C)</th>\n",
              "      <th colspan=\"2\" halign=\"left\">min_temp (deg C)</th>\n",
              "      <th colspan=\"2\" halign=\"left\">max_temp (deg C)</th>\n",
              "      <th colspan=\"2\" halign=\"left\">mean_pressure (mb)</th>\n",
              "      <th colspan=\"2\" halign=\"left\">mean_humidity (%)</th>\n",
              "      <th colspan=\"2\" halign=\"left\">mean_wind (ms-1)</th>\n",
              "      <th colspan=\"2\" halign=\"left\">precip_sum (mm)</th>\n",
              "    </tr>\n",
              "    <tr>\n",
              "      <th></th>\n",
              "      <th>self</th>\n",
              "      <th>other</th>\n",
              "      <th>self</th>\n",
              "      <th>other</th>\n",
              "      <th>self</th>\n",
              "      <th>other</th>\n",
              "      <th>self</th>\n",
              "      <th>other</th>\n",
              "      <th>self</th>\n",
              "      <th>other</th>\n",
              "      <th>self</th>\n",
              "      <th>other</th>\n",
              "      <th>self</th>\n",
              "      <th>other</th>\n",
              "    </tr>\n",
              "    <tr>\n",
              "      <th>month</th>\n",
              "      <th></th>\n",
              "      <th></th>\n",
              "      <th></th>\n",
              "      <th></th>\n",
              "      <th></th>\n",
              "      <th></th>\n",
              "      <th></th>\n",
              "      <th></th>\n",
              "      <th></th>\n",
              "      <th></th>\n",
              "      <th></th>\n",
              "      <th></th>\n",
              "      <th></th>\n",
              "      <th></th>\n",
              "    </tr>\n",
              "  </thead>\n",
              "  <tbody>\n",
              "    <tr>\n",
              "      <th>Jan</th>\n",
              "      <td>-1.036986</td>\n",
              "      <td>5.452045</td>\n",
              "      <td>-4.572258</td>\n",
              "      <td>2.170323</td>\n",
              "      <td>3.523226</td>\n",
              "      <td>8.486452</td>\n",
              "      <td>710.995404</td>\n",
              "      <td>759.047569</td>\n",
              "      <td>84.563344</td>\n",
              "      <td>83.969628</td>\n",
              "      <td>2.028521</td>\n",
              "      <td>4.520082</td>\n",
              "      <td>7.080000</td>\n",
              "      <td>2.601290</td>\n",
              "    </tr>\n",
              "    <tr>\n",
              "      <th>Feb</th>\n",
              "      <td>1.459536</td>\n",
              "      <td>5.888956</td>\n",
              "      <td>-2.696454</td>\n",
              "      <td>2.643262</td>\n",
              "      <td>7.192199</td>\n",
              "      <td>9.282979</td>\n",
              "      <td>710.668417</td>\n",
              "      <td>759.464393</td>\n",
              "      <td>77.120303</td>\n",
              "      <td>80.577975</td>\n",
              "      <td>2.071454</td>\n",
              "      <td>4.467551</td>\n",
              "      <td>3.158865</td>\n",
              "      <td>1.994326</td>\n",
              "    </tr>\n",
              "    <tr>\n",
              "      <th>Mar</th>\n",
              "      <td>6.061640</td>\n",
              "      <td>7.928891</td>\n",
              "      <td>0.803871</td>\n",
              "      <td>4.552667</td>\n",
              "      <td>12.434839</td>\n",
              "      <td>11.810000</td>\n",
              "      <td>709.293662</td>\n",
              "      <td>758.189557</td>\n",
              "      <td>69.261675</td>\n",
              "      <td>76.876010</td>\n",
              "      <td>2.447647</td>\n",
              "      <td>4.769790</td>\n",
              "      <td>4.507097</td>\n",
              "      <td>2.336000</td>\n",
              "    </tr>\n",
              "    <tr>\n",
              "      <th>Apr</th>\n",
              "      <td>10.601215</td>\n",
              "      <td>10.405160</td>\n",
              "      <td>4.645333</td>\n",
              "      <td>6.032000</td>\n",
              "      <td>16.982667</td>\n",
              "      <td>15.349333</td>\n",
              "      <td>710.002559</td>\n",
              "      <td>760.006455</td>\n",
              "      <td>64.274459</td>\n",
              "      <td>70.594834</td>\n",
              "      <td>2.805385</td>\n",
              "      <td>3.937399</td>\n",
              "      <td>5.587333</td>\n",
              "      <td>1.433333</td>\n",
              "    </tr>\n",
              "    <tr>\n",
              "      <th>May</th>\n",
              "      <td>14.001605</td>\n",
              "      <td>13.945328</td>\n",
              "      <td>8.596129</td>\n",
              "      <td>9.387742</td>\n",
              "      <td>20.202581</td>\n",
              "      <td>19.108387</td>\n",
              "      <td>709.830970</td>\n",
              "      <td>759.972213</td>\n",
              "      <td>69.726098</td>\n",
              "      <td>69.518787</td>\n",
              "      <td>2.369585</td>\n",
              "      <td>4.023179</td>\n",
              "      <td>10.334839</td>\n",
              "      <td>2.233548</td>\n",
              "    </tr>\n",
              "    <tr>\n",
              "      <th>Jun</th>\n",
              "      <td>18.983879</td>\n",
              "      <td>17.205025</td>\n",
              "      <td>13.187333</td>\n",
              "      <td>12.597333</td>\n",
              "      <td>25.584000</td>\n",
              "      <td>22.528667</td>\n",
              "      <td>711.072269</td>\n",
              "      <td>760.063668</td>\n",
              "      <td>68.044504</td>\n",
              "      <td>69.837063</td>\n",
              "      <td>2.257706</td>\n",
              "      <td>4.277428</td>\n",
              "      <td>11.106667</td>\n",
              "      <td>2.381333</td>\n",
              "    </tr>\n",
              "    <tr>\n",
              "      <th>Jul</th>\n",
              "      <td>19.910417</td>\n",
              "      <td>19.583573</td>\n",
              "      <td>14.322581</td>\n",
              "      <td>14.866452</td>\n",
              "      <td>26.470323</td>\n",
              "      <td>25.020000</td>\n",
              "      <td>711.496566</td>\n",
              "      <td>759.527604</td>\n",
              "      <td>70.569659</td>\n",
              "      <td>65.276267</td>\n",
              "      <td>1.934507</td>\n",
              "      <td>4.183529</td>\n",
              "      <td>11.485806</td>\n",
              "      <td>2.394839</td>\n",
              "    </tr>\n",
              "    <tr>\n",
              "      <th>Aug</th>\n",
              "      <td>19.554905</td>\n",
              "      <td>18.449890</td>\n",
              "      <td>13.970323</td>\n",
              "      <td>14.087097</td>\n",
              "      <td>26.247097</td>\n",
              "      <td>23.680645</td>\n",
              "      <td>712.556892</td>\n",
              "      <td>759.849124</td>\n",
              "      <td>72.964836</td>\n",
              "      <td>70.730940</td>\n",
              "      <td>2.022288</td>\n",
              "      <td>4.091937</td>\n",
              "      <td>14.955484</td>\n",
              "      <td>2.714839</td>\n",
              "    </tr>\n",
              "    <tr>\n",
              "      <th>Sep</th>\n",
              "      <td>14.570158</td>\n",
              "      <td>15.556601</td>\n",
              "      <td>9.645333</td>\n",
              "      <td>11.391333</td>\n",
              "      <td>20.586000</td>\n",
              "      <td>20.480000</td>\n",
              "      <td>712.863897</td>\n",
              "      <td>760.780904</td>\n",
              "      <td>76.828923</td>\n",
              "      <td>74.847995</td>\n",
              "      <td>1.865618</td>\n",
              "      <td>3.991965</td>\n",
              "      <td>9.295333</td>\n",
              "      <td>2.246667</td>\n",
              "    </tr>\n",
              "    <tr>\n",
              "      <th>Oct</th>\n",
              "      <td>10.473568</td>\n",
              "      <td>12.279683</td>\n",
              "      <td>5.712258</td>\n",
              "      <td>8.874194</td>\n",
              "      <td>16.565806</td>\n",
              "      <td>16.157419</td>\n",
              "      <td>712.652404</td>\n",
              "      <td>760.885744</td>\n",
              "      <td>77.592183</td>\n",
              "      <td>81.077863</td>\n",
              "      <td>2.229946</td>\n",
              "      <td>3.864467</td>\n",
              "      <td>5.921935</td>\n",
              "      <td>2.256774</td>\n",
              "    </tr>\n",
              "    <tr>\n",
              "      <th>Nov</th>\n",
              "      <td>5.024660</td>\n",
              "      <td>8.424954</td>\n",
              "      <td>0.966667</td>\n",
              "      <td>5.296667</td>\n",
              "      <td>9.968000</td>\n",
              "      <td>11.449333</td>\n",
              "      <td>710.184243</td>\n",
              "      <td>756.737416</td>\n",
              "      <td>80.483692</td>\n",
              "      <td>85.379357</td>\n",
              "      <td>2.308526</td>\n",
              "      <td>4.239466</td>\n",
              "      <td>4.234000</td>\n",
              "      <td>2.818667</td>\n",
              "    </tr>\n",
              "    <tr>\n",
              "      <th>Dec</th>\n",
              "      <td>0.367959</td>\n",
              "      <td>7.878952</td>\n",
              "      <td>-3.310968</td>\n",
              "      <td>4.832258</td>\n",
              "      <td>5.578065</td>\n",
              "      <td>10.560645</td>\n",
              "      <td>715.211790</td>\n",
              "      <td>760.626703</td>\n",
              "      <td>83.579367</td>\n",
              "      <td>86.519029</td>\n",
              "      <td>1.699555</td>\n",
              "      <td>4.672482</td>\n",
              "      <td>4.063226</td>\n",
              "      <td>2.921290</td>\n",
              "    </tr>\n",
              "  </tbody>\n",
              "</table>\n",
              "</div>"
            ],
            "text/plain": [
              "      mean_temp (deg C)             ... precip_sum (mm)          \n",
              "                   self      other  ...            self     other\n",
              "month                               ...                          \n",
              "Jan           -1.036986   5.452045  ...        7.080000  2.601290\n",
              "Feb            1.459536   5.888956  ...        3.158865  1.994326\n",
              "Mar            6.061640   7.928891  ...        4.507097  2.336000\n",
              "Apr           10.601215  10.405160  ...        5.587333  1.433333\n",
              "May           14.001605  13.945328  ...       10.334839  2.233548\n",
              "Jun           18.983879  17.205025  ...       11.106667  2.381333\n",
              "Jul           19.910417  19.583573  ...       11.485806  2.394839\n",
              "Aug           19.554905  18.449890  ...       14.955484  2.714839\n",
              "Sep           14.570158  15.556601  ...        9.295333  2.246667\n",
              "Oct           10.473568  12.279683  ...        5.921935  2.256774\n",
              "Nov            5.024660   8.424954  ...        4.234000  2.818667\n",
              "Dec            0.367959   7.878952  ...        4.063226  2.921290\n",
              "\n",
              "[12 rows x 14 columns]"
            ]
          },
          "metadata": {
            "tags": []
          },
          "execution_count": 14
        }
      ]
    },
    {
      "cell_type": "code",
      "metadata": {
        "colab": {
          "base_uri": "https://localhost:8080/",
          "height": 452
        },
        "id": "ivctS5VBuMh2",
        "outputId": "5f2369f1-d1fc-4131-c547-f60f17ec57a3"
      },
      "source": [
        "# using the sum (total) of monthly rianfall would be better\r\n",
        "# create new dfs for groupby.sum()\r\n",
        "\r\n",
        "for i in dflist:\r\n",
        "  exec(str(i) + '_sum = ' + str(i) + '.groupby(by=[\\'month\\']).sum().reindex(month_ordered)')\r\n",
        "\r\n",
        "# substitute the rainfall data into inndf_months (and divide by no. of years)\r\n",
        "\r\n",
        "for i in dflist:\r\n",
        "  exec(str(i) + '_months[\\'precip_sum (mm)\\'] = ' + str(i) + '_sum[\\'precip_sum (mm)\\']/5')\r\n",
        "\r\n",
        "#check a df\r\n",
        "londf_months\r\n"
      ],
      "execution_count": 15,
      "outputs": [
        {
          "output_type": "execute_result",
          "data": {
            "text/html": [
              "<div>\n",
              "<style scoped>\n",
              "    .dataframe tbody tr th:only-of-type {\n",
              "        vertical-align: middle;\n",
              "    }\n",
              "\n",
              "    .dataframe tbody tr th {\n",
              "        vertical-align: top;\n",
              "    }\n",
              "\n",
              "    .dataframe thead th {\n",
              "        text-align: right;\n",
              "    }\n",
              "</style>\n",
              "<table border=\"1\" class=\"dataframe\">\n",
              "  <thead>\n",
              "    <tr style=\"text-align: right;\">\n",
              "      <th></th>\n",
              "      <th>mean_temp (deg C)</th>\n",
              "      <th>min_temp (deg C)</th>\n",
              "      <th>max_temp (deg C)</th>\n",
              "      <th>mean_pressure (mb)</th>\n",
              "      <th>mean_humidity (%)</th>\n",
              "      <th>mean_wind (ms-1)</th>\n",
              "      <th>precip_sum (mm)</th>\n",
              "    </tr>\n",
              "    <tr>\n",
              "      <th>month</th>\n",
              "      <th></th>\n",
              "      <th></th>\n",
              "      <th></th>\n",
              "      <th></th>\n",
              "      <th></th>\n",
              "      <th></th>\n",
              "      <th></th>\n",
              "    </tr>\n",
              "  </thead>\n",
              "  <tbody>\n",
              "    <tr>\n",
              "      <th>Jan</th>\n",
              "      <td>5.452045</td>\n",
              "      <td>2.170323</td>\n",
              "      <td>8.486452</td>\n",
              "      <td>759.047569</td>\n",
              "      <td>83.969628</td>\n",
              "      <td>4.520082</td>\n",
              "      <td>80.64</td>\n",
              "    </tr>\n",
              "    <tr>\n",
              "      <th>Feb</th>\n",
              "      <td>5.888956</td>\n",
              "      <td>2.643262</td>\n",
              "      <td>9.282979</td>\n",
              "      <td>759.464393</td>\n",
              "      <td>80.577975</td>\n",
              "      <td>4.467551</td>\n",
              "      <td>56.24</td>\n",
              "    </tr>\n",
              "    <tr>\n",
              "      <th>Mar</th>\n",
              "      <td>7.928891</td>\n",
              "      <td>4.552667</td>\n",
              "      <td>11.810000</td>\n",
              "      <td>758.189557</td>\n",
              "      <td>76.876010</td>\n",
              "      <td>4.769790</td>\n",
              "      <td>70.08</td>\n",
              "    </tr>\n",
              "    <tr>\n",
              "      <th>Apr</th>\n",
              "      <td>10.405160</td>\n",
              "      <td>6.032000</td>\n",
              "      <td>15.349333</td>\n",
              "      <td>760.006455</td>\n",
              "      <td>70.594834</td>\n",
              "      <td>3.937399</td>\n",
              "      <td>43.00</td>\n",
              "    </tr>\n",
              "    <tr>\n",
              "      <th>May</th>\n",
              "      <td>13.945328</td>\n",
              "      <td>9.387742</td>\n",
              "      <td>19.108387</td>\n",
              "      <td>759.972213</td>\n",
              "      <td>69.518787</td>\n",
              "      <td>4.023179</td>\n",
              "      <td>69.24</td>\n",
              "    </tr>\n",
              "    <tr>\n",
              "      <th>Jun</th>\n",
              "      <td>17.205025</td>\n",
              "      <td>12.597333</td>\n",
              "      <td>22.528667</td>\n",
              "      <td>760.063668</td>\n",
              "      <td>69.837063</td>\n",
              "      <td>4.277428</td>\n",
              "      <td>71.44</td>\n",
              "    </tr>\n",
              "    <tr>\n",
              "      <th>Jul</th>\n",
              "      <td>19.583573</td>\n",
              "      <td>14.866452</td>\n",
              "      <td>25.020000</td>\n",
              "      <td>759.527604</td>\n",
              "      <td>65.276267</td>\n",
              "      <td>4.183529</td>\n",
              "      <td>74.24</td>\n",
              "    </tr>\n",
              "    <tr>\n",
              "      <th>Aug</th>\n",
              "      <td>18.449890</td>\n",
              "      <td>14.087097</td>\n",
              "      <td>23.680645</td>\n",
              "      <td>759.849124</td>\n",
              "      <td>70.730940</td>\n",
              "      <td>4.091937</td>\n",
              "      <td>84.16</td>\n",
              "    </tr>\n",
              "    <tr>\n",
              "      <th>Sep</th>\n",
              "      <td>15.556601</td>\n",
              "      <td>11.391333</td>\n",
              "      <td>20.480000</td>\n",
              "      <td>760.780904</td>\n",
              "      <td>74.847995</td>\n",
              "      <td>3.991965</td>\n",
              "      <td>67.40</td>\n",
              "    </tr>\n",
              "    <tr>\n",
              "      <th>Oct</th>\n",
              "      <td>12.279683</td>\n",
              "      <td>8.874194</td>\n",
              "      <td>16.157419</td>\n",
              "      <td>760.885744</td>\n",
              "      <td>81.077863</td>\n",
              "      <td>3.864467</td>\n",
              "      <td>69.96</td>\n",
              "    </tr>\n",
              "    <tr>\n",
              "      <th>Nov</th>\n",
              "      <td>8.424954</td>\n",
              "      <td>5.296667</td>\n",
              "      <td>11.449333</td>\n",
              "      <td>756.737416</td>\n",
              "      <td>85.379357</td>\n",
              "      <td>4.239466</td>\n",
              "      <td>84.56</td>\n",
              "    </tr>\n",
              "    <tr>\n",
              "      <th>Dec</th>\n",
              "      <td>7.878952</td>\n",
              "      <td>4.832258</td>\n",
              "      <td>10.560645</td>\n",
              "      <td>760.626703</td>\n",
              "      <td>86.519029</td>\n",
              "      <td>4.672482</td>\n",
              "      <td>90.56</td>\n",
              "    </tr>\n",
              "  </tbody>\n",
              "</table>\n",
              "</div>"
            ],
            "text/plain": [
              "       mean_temp (deg C)  min_temp (deg C)  ...  mean_wind (ms-1)  precip_sum (mm)\n",
              "month                                       ...                                   \n",
              "Jan             5.452045          2.170323  ...          4.520082            80.64\n",
              "Feb             5.888956          2.643262  ...          4.467551            56.24\n",
              "Mar             7.928891          4.552667  ...          4.769790            70.08\n",
              "Apr            10.405160          6.032000  ...          3.937399            43.00\n",
              "May            13.945328          9.387742  ...          4.023179            69.24\n",
              "Jun            17.205025         12.597333  ...          4.277428            71.44\n",
              "Jul            19.583573         14.866452  ...          4.183529            74.24\n",
              "Aug            18.449890         14.087097  ...          4.091937            84.16\n",
              "Sep            15.556601         11.391333  ...          3.991965            67.40\n",
              "Oct            12.279683          8.874194  ...          3.864467            69.96\n",
              "Nov             8.424954          5.296667  ...          4.239466            84.56\n",
              "Dec             7.878952          4.832258  ...          4.672482            90.56\n",
              "\n",
              "[12 rows x 7 columns]"
            ]
          },
          "metadata": {
            "tags": []
          },
          "execution_count": 15
        }
      ]
    },
    {
      "cell_type": "code",
      "metadata": {
        "colab": {
          "base_uri": "https://localhost:8080/",
          "height": 419
        },
        "id": "7687j8ZTz6rh",
        "outputId": "7499c6f1-998e-406d-d02f-7bb0fdcc853e"
      },
      "source": [
        "sindf"
      ],
      "execution_count": 16,
      "outputs": [
        {
          "output_type": "execute_result",
          "data": {
            "text/html": [
              "<div>\n",
              "<style scoped>\n",
              "    .dataframe tbody tr th:only-of-type {\n",
              "        vertical-align: middle;\n",
              "    }\n",
              "\n",
              "    .dataframe tbody tr th {\n",
              "        vertical-align: top;\n",
              "    }\n",
              "\n",
              "    .dataframe thead th {\n",
              "        text-align: right;\n",
              "    }\n",
              "</style>\n",
              "<table border=\"1\" class=\"dataframe\">\n",
              "  <thead>\n",
              "    <tr style=\"text-align: right;\">\n",
              "      <th></th>\n",
              "      <th>date</th>\n",
              "      <th>mean_temp (deg C)</th>\n",
              "      <th>min_temp (deg C)</th>\n",
              "      <th>max_temp (deg C)</th>\n",
              "      <th>mean_pressure (mb)</th>\n",
              "      <th>mean_humidity (%)</th>\n",
              "      <th>mean_wind (ms-1)</th>\n",
              "      <th>precip_sum (mm)</th>\n",
              "      <th>month</th>\n",
              "      <th>month-year</th>\n",
              "      <th>year</th>\n",
              "    </tr>\n",
              "  </thead>\n",
              "  <tbody>\n",
              "    <tr>\n",
              "      <th>0</th>\n",
              "      <td>2015-01-01</td>\n",
              "      <td>25.7750</td>\n",
              "      <td>24.8</td>\n",
              "      <td>27.5</td>\n",
              "      <td>757.4750</td>\n",
              "      <td>85.250</td>\n",
              "      <td>2.250</td>\n",
              "      <td>0.6</td>\n",
              "      <td>Jan</td>\n",
              "      <td>Jan-2015</td>\n",
              "      <td>2015</td>\n",
              "    </tr>\n",
              "    <tr>\n",
              "      <th>1</th>\n",
              "      <td>2015-01-02</td>\n",
              "      <td>26.9250</td>\n",
              "      <td>24.5</td>\n",
              "      <td>30.3</td>\n",
              "      <td>757.8500</td>\n",
              "      <td>76.750</td>\n",
              "      <td>3.125</td>\n",
              "      <td>0.0</td>\n",
              "      <td>Jan</td>\n",
              "      <td>Jan-2015</td>\n",
              "      <td>2015</td>\n",
              "    </tr>\n",
              "    <tr>\n",
              "      <th>2</th>\n",
              "      <td>2015-01-03</td>\n",
              "      <td>27.1625</td>\n",
              "      <td>24.6</td>\n",
              "      <td>30.7</td>\n",
              "      <td>757.3000</td>\n",
              "      <td>75.500</td>\n",
              "      <td>2.750</td>\n",
              "      <td>0.0</td>\n",
              "      <td>Jan</td>\n",
              "      <td>Jan-2015</td>\n",
              "      <td>2015</td>\n",
              "    </tr>\n",
              "    <tr>\n",
              "      <th>3</th>\n",
              "      <td>2015-01-04</td>\n",
              "      <td>27.5125</td>\n",
              "      <td>24.8</td>\n",
              "      <td>32.1</td>\n",
              "      <td>756.3625</td>\n",
              "      <td>74.125</td>\n",
              "      <td>2.625</td>\n",
              "      <td>0.0</td>\n",
              "      <td>Jan</td>\n",
              "      <td>Jan-2015</td>\n",
              "      <td>2015</td>\n",
              "    </tr>\n",
              "    <tr>\n",
              "      <th>4</th>\n",
              "      <td>2015-01-05</td>\n",
              "      <td>27.8625</td>\n",
              "      <td>25.0</td>\n",
              "      <td>32.4</td>\n",
              "      <td>756.0500</td>\n",
              "      <td>74.625</td>\n",
              "      <td>2.625</td>\n",
              "      <td>0.0</td>\n",
              "      <td>Jan</td>\n",
              "      <td>Jan-2015</td>\n",
              "      <td>2015</td>\n",
              "    </tr>\n",
              "    <tr>\n",
              "      <th>...</th>\n",
              "      <td>...</td>\n",
              "      <td>...</td>\n",
              "      <td>...</td>\n",
              "      <td>...</td>\n",
              "      <td>...</td>\n",
              "      <td>...</td>\n",
              "      <td>...</td>\n",
              "      <td>...</td>\n",
              "      <td>...</td>\n",
              "      <td>...</td>\n",
              "      <td>...</td>\n",
              "    </tr>\n",
              "    <tr>\n",
              "      <th>1821</th>\n",
              "      <td>2019-12-27</td>\n",
              "      <td>27.6375</td>\n",
              "      <td>25.1</td>\n",
              "      <td>31.4</td>\n",
              "      <td>756.8375</td>\n",
              "      <td>77.125</td>\n",
              "      <td>3.875</td>\n",
              "      <td>0.0</td>\n",
              "      <td>Dec</td>\n",
              "      <td>Dec-2019</td>\n",
              "      <td>2019</td>\n",
              "    </tr>\n",
              "    <tr>\n",
              "      <th>1822</th>\n",
              "      <td>2019-12-28</td>\n",
              "      <td>27.6375</td>\n",
              "      <td>25.5</td>\n",
              "      <td>31.1</td>\n",
              "      <td>756.9625</td>\n",
              "      <td>78.375</td>\n",
              "      <td>3.875</td>\n",
              "      <td>0.0</td>\n",
              "      <td>Dec</td>\n",
              "      <td>Dec-2019</td>\n",
              "      <td>2019</td>\n",
              "    </tr>\n",
              "    <tr>\n",
              "      <th>1823</th>\n",
              "      <td>2019-12-29</td>\n",
              "      <td>27.8625</td>\n",
              "      <td>25.7</td>\n",
              "      <td>31.6</td>\n",
              "      <td>757.0625</td>\n",
              "      <td>78.000</td>\n",
              "      <td>4.000</td>\n",
              "      <td>0.0</td>\n",
              "      <td>Dec</td>\n",
              "      <td>Dec-2019</td>\n",
              "      <td>2019</td>\n",
              "    </tr>\n",
              "    <tr>\n",
              "      <th>1824</th>\n",
              "      <td>2019-12-30</td>\n",
              "      <td>28.0000</td>\n",
              "      <td>25.5</td>\n",
              "      <td>31.6</td>\n",
              "      <td>757.3625</td>\n",
              "      <td>77.125</td>\n",
              "      <td>3.500</td>\n",
              "      <td>0.0</td>\n",
              "      <td>Dec</td>\n",
              "      <td>Dec-2019</td>\n",
              "      <td>2019</td>\n",
              "    </tr>\n",
              "    <tr>\n",
              "      <th>1825</th>\n",
              "      <td>2019-12-31</td>\n",
              "      <td>27.7125</td>\n",
              "      <td>25.3</td>\n",
              "      <td>32.2</td>\n",
              "      <td>758.1625</td>\n",
              "      <td>77.750</td>\n",
              "      <td>3.250</td>\n",
              "      <td>0.0</td>\n",
              "      <td>Dec</td>\n",
              "      <td>Dec-2019</td>\n",
              "      <td>2019</td>\n",
              "    </tr>\n",
              "  </tbody>\n",
              "</table>\n",
              "<p>1826 rows × 11 columns</p>\n",
              "</div>"
            ],
            "text/plain": [
              "            date  mean_temp (deg C)  min_temp (deg C)  ...  month  month-year  year\n",
              "0     2015-01-01            25.7750              24.8  ...    Jan    Jan-2015  2015\n",
              "1     2015-01-02            26.9250              24.5  ...    Jan    Jan-2015  2015\n",
              "2     2015-01-03            27.1625              24.6  ...    Jan    Jan-2015  2015\n",
              "3     2015-01-04            27.5125              24.8  ...    Jan    Jan-2015  2015\n",
              "4     2015-01-05            27.8625              25.0  ...    Jan    Jan-2015  2015\n",
              "...          ...                ...               ...  ...    ...         ...   ...\n",
              "1821  2019-12-27            27.6375              25.1  ...    Dec    Dec-2019  2019\n",
              "1822  2019-12-28            27.6375              25.5  ...    Dec    Dec-2019  2019\n",
              "1823  2019-12-29            27.8625              25.7  ...    Dec    Dec-2019  2019\n",
              "1824  2019-12-30            28.0000              25.5  ...    Dec    Dec-2019  2019\n",
              "1825  2019-12-31            27.7125              25.3  ...    Dec    Dec-2019  2019\n",
              "\n",
              "[1826 rows x 11 columns]"
            ]
          },
          "metadata": {
            "tags": []
          },
          "execution_count": 16
        }
      ]
    },
    {
      "cell_type": "code",
      "metadata": {
        "colab": {
          "base_uri": "https://localhost:8080/",
          "height": 569
        },
        "id": "TAfQWFXyuK6z",
        "outputId": "fca2ecd9-a008-4c92-b65d-4b96818b6790"
      },
      "source": [
        "#graphs\r\n",
        "inndf_months.plot(y=['precip_sum (mm)'], kind= 'bar')\r\n",
        "inndf_months.plot(y=['mean_temp (deg C)'])"
      ],
      "execution_count": 17,
      "outputs": [
        {
          "output_type": "execute_result",
          "data": {
            "text/plain": [
              "<matplotlib.axes._subplots.AxesSubplot at 0x7f1d53dc8400>"
            ]
          },
          "metadata": {
            "tags": []
          },
          "execution_count": 17
        },
        {
          "output_type": "display_data",
          "data": {
            "image/png": "[encoded data removed]",
            "text/plain": [
              "<Figure size 432x288 with 1 Axes>"
            ]
          },
          "metadata": {
            "tags": [],
            "needs_background": "light"
          }
        },
        {
          "output_type": "display_data",
          "data": {
            "image/png": "[encoded data removed]",
            "text/plain": [
              "<Figure size 432x288 with 1 Axes>"
            ]
          },
          "metadata": {
            "tags": [],
            "needs_background": "light"
          }
        }
      ]
    },
    {
      "cell_type": "code",
      "metadata": {
        "id": "Z-LUtGgvK-a7",
        "colab": {
          "base_uri": "https://localhost:8080/",
          "height": 282
        },
        "outputId": "a3a94173-dd34-4137-b328-c4829aa65eed"
      },
      "source": [
        "#Plot with subplots (still learning this one, needs work)\r\n",
        "fig, (ax, ax1) = plt.subplots(2, sharex=True)\r\n",
        "\r\n",
        "ax.plot(inndf_months['precip_sum (mm)'])\r\n",
        "ax1.plot(londf_months['precip_sum (mm)'])\r\n"
      ],
      "execution_count": 18,
      "outputs": [
        {
          "output_type": "execute_result",
          "data": {
            "text/plain": [
              "[<matplotlib.lines.Line2D at 0x7f1d5381f710>]"
            ]
          },
          "metadata": {
            "tags": []
          },
          "execution_count": 18
        },
        {
          "output_type": "display_data",
          "data": {
            "image/png": "[encoded data removed]",
            "text/plain": [
              "<Figure size 432x288 with 2 Axes>"
            ]
          },
          "metadata": {
            "tags": [],
            "needs_background": "light"
          }
        }
      ]
    },
    {
      "cell_type": "code",
      "metadata": {
        "colab": {
          "base_uri": "https://localhost:8080/",
          "height": 295
        },
        "id": "gEHCKuo5PeZu",
        "outputId": "35c17235-1d36-4f60-f891-4c4a312bd2f4"
      },
      "source": [
        "#plot on same graph\r\n",
        "plt.plot(inndf_months['precip_sum (mm)'])\r\n",
        "plt.plot(londf_months['precip_sum (mm)'])\r\n",
        "plt.plot(sindf_months['precip_sum (mm)'])\r\n",
        "plt.plot(syddf_months['precip_sum (mm)'])\r\n",
        "plt.plot(tehdf_months['precip_sum (mm)'])\r\n",
        "plt.title('Monthly Average Rainfall')\r\n",
        "plt.xlabel('Month')\r\n",
        "plt.ylabel('rainfall (mm)')\r\n",
        "plt.legend(citylist)\r\n",
        "plt.show()"
      ],
      "execution_count": 19,
      "outputs": [
        {
          "output_type": "display_data",
          "data": {
            "image/png": "[encoded data removed]",
            "text/plain": [
              "<Figure size 432x288 with 1 Axes>"
            ]
          },
          "metadata": {
            "tags": [],
            "needs_background": "light"
          }
        }
      ]
    },
    {
      "cell_type": "markdown",
      "metadata": {
        "id": "qJm34e6MNjUG"
      },
      "source": [
        "# statistical comparisons"
      ]
    },
    {
      "cell_type": "code",
      "metadata": {
        "id": "lmQwMkRt11Cy",
        "colab": {
          "base_uri": "https://localhost:8080/"
        },
        "outputId": "f2c14b47-e07d-48e3-898c-601497833cdb"
      },
      "source": [
        "\r\n",
        "# Analysis of Variance Test (ANOVA) \r\n",
        "from scipy.stats import f_oneway\r\n",
        "\r\n",
        "#compare mean temperatures between innsbruck and london\r\n",
        "stat, p = f_oneway(inndf_months['precip_sum (mm)'], londf_months['precip_sum (mm)'])\r\n",
        "print('stat=%.3f, p=%.3f' % (stat, p))\r\n",
        "if p > 0.05:\r\n",
        "\tprint('Not Significantly different')\r\n",
        "else:\r\n",
        "\tprint('Significantly different')\r\n"
      ],
      "execution_count": 20,
      "outputs": [
        {
          "output_type": "stream",
          "text": [
            "stat=23.233, p=0.000\n",
            "Significantly different\n"
          ],
          "name": "stdout"
        }
      ]
    },
    {
      "cell_type": "code",
      "metadata": {
        "id": "rqMTAVj_Hqxt"
      },
      "source": [
        ""
      ],
      "execution_count": 20,
      "outputs": []
    }
  ]
}