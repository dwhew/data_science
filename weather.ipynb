{
  "nbformat": 4,
  "nbformat_minor": 0,
  "metadata": {
    "colab": {
      "name": "weather.ipynb",
      "provenance": [],
      "collapsed_sections": [],
      "toc_visible": true,
      "authorship_tag": "ABX9TyN/L8zPkYMcD5HQVY0fcpq+",
      "include_colab_link": true
    },
    "kernelspec": {
      "name": "python3",
      "display_name": "Python 3"
    }
  },
  "cells": [
    {
      "cell_type": "markdown",
      "metadata": {
        "id": "view-in-github",
        "colab_type": "text"
      },
      "source": [
        "<a href=\"https://colab.research.google.com/github/dwhew/data_science/blob/main/weather.ipynb\" target=\"_parent\"><img src=\"https://colab.research.google.com/assets/colab-badge.svg\" alt=\"Open In Colab\"/></a>"
      ]
    },
    {
      "cell_type": "markdown",
      "metadata": {
        "id": "l-Cc40O3WPWY"
      },
      "source": [
        "What is the nicest city to live in?\r\n",
        "\r\n",
        "Notes\r\n",
        "*   warmest?\r\n",
        "*   least rain?\r\n",
        "*   has snow?\r\n",
        "*   score based on all attributes would be the most objective (maybe number of days could be a good counter and then rank/sort. must prioritise attributes)\r\n",
        "\r\n",
        "\r\n",
        "\r\n",
        "\r\n"
      ]
    },
    {
      "cell_type": "code",
      "metadata": {
        "id": "m9ZF-8XoF1lb"
      },
      "source": [
        "import pandas as pd\r\n",
        "import scipy\r\n",
        "\r\n"
      ],
      "execution_count": 9,
      "outputs": []
    },
    {
      "cell_type": "markdown",
      "metadata": {
        "id": "Jy5QluGLMadv"
      },
      "source": [
        "## prelim experimention with data"
      ]
    },
    {
      "cell_type": "code",
      "metadata": {
        "colab": {
          "base_uri": "https://localhost:8080/",
          "height": 204
        },
        "id": "PIVYhu5TGAeF",
        "outputId": "c42f1e6e-824e-4aec-91d9-0dd58ef99431"
      },
      "source": [
        "inndf = pd.read_csv(r\"https://raw.githubusercontent.com/ds4geo/ds4geo/master/data/timeseries/meteo/Innsbruck_weather_2015-19.csv\")\r\n",
        "inndf.head()"
      ],
      "execution_count": 10,
      "outputs": [
        {
          "output_type": "execute_result",
          "data": {
            "text/html": [
              "<div>\n",
              "<style scoped>\n",
              "    .dataframe tbody tr th:only-of-type {\n",
              "        vertical-align: middle;\n",
              "    }\n",
              "\n",
              "    .dataframe tbody tr th {\n",
              "        vertical-align: top;\n",
              "    }\n",
              "\n",
              "    .dataframe thead th {\n",
              "        text-align: right;\n",
              "    }\n",
              "</style>\n",
              "<table border=\"1\" class=\"dataframe\">\n",
              "  <thead>\n",
              "    <tr style=\"text-align: right;\">\n",
              "      <th></th>\n",
              "      <th>date</th>\n",
              "      <th>mean_temp (deg C)</th>\n",
              "      <th>min_temp (deg C)</th>\n",
              "      <th>max_temp (deg C)</th>\n",
              "      <th>mean_pressure (mb)</th>\n",
              "      <th>mean_humidity (%)</th>\n",
              "      <th>mean_wind (ms-1)</th>\n",
              "      <th>precip_sum (mm)</th>\n",
              "      <th>month</th>\n",
              "      <th>month-year</th>\n",
              "      <th>year</th>\n",
              "    </tr>\n",
              "  </thead>\n",
              "  <tbody>\n",
              "    <tr>\n",
              "      <th>0</th>\n",
              "      <td>2015-01-01</td>\n",
              "      <td>-3.137500</td>\n",
              "      <td>-7.4</td>\n",
              "      <td>1.0</td>\n",
              "      <td>724.241667</td>\n",
              "      <td>92.458333</td>\n",
              "      <td>1.166667</td>\n",
              "      <td>0.0</td>\n",
              "      <td>Jan</td>\n",
              "      <td>Jan-2015</td>\n",
              "      <td>2015</td>\n",
              "    </tr>\n",
              "    <tr>\n",
              "      <th>1</th>\n",
              "      <td>2015-01-02</td>\n",
              "      <td>-3.341667</td>\n",
              "      <td>-9.2</td>\n",
              "      <td>1.5</td>\n",
              "      <td>721.975000</td>\n",
              "      <td>94.875000</td>\n",
              "      <td>1.125000</td>\n",
              "      <td>1.6</td>\n",
              "      <td>Jan</td>\n",
              "      <td>Jan-2015</td>\n",
              "      <td>2015</td>\n",
              "    </tr>\n",
              "    <tr>\n",
              "      <th>2</th>\n",
              "      <td>2015-01-03</td>\n",
              "      <td>1.458333</td>\n",
              "      <td>0.4</td>\n",
              "      <td>3.2</td>\n",
              "      <td>717.537500</td>\n",
              "      <td>96.833333</td>\n",
              "      <td>1.791667</td>\n",
              "      <td>13.1</td>\n",
              "      <td>Jan</td>\n",
              "      <td>Jan-2015</td>\n",
              "      <td>2015</td>\n",
              "    </tr>\n",
              "    <tr>\n",
              "      <th>3</th>\n",
              "      <td>2015-01-04</td>\n",
              "      <td>2.108333</td>\n",
              "      <td>-0.2</td>\n",
              "      <td>4.6</td>\n",
              "      <td>717.608333</td>\n",
              "      <td>79.291667</td>\n",
              "      <td>3.041667</td>\n",
              "      <td>25.9</td>\n",
              "      <td>Jan</td>\n",
              "      <td>Jan-2015</td>\n",
              "      <td>2015</td>\n",
              "    </tr>\n",
              "    <tr>\n",
              "      <th>4</th>\n",
              "      <td>2015-01-05</td>\n",
              "      <td>-0.841667</td>\n",
              "      <td>-5.3</td>\n",
              "      <td>2.4</td>\n",
              "      <td>721.662500</td>\n",
              "      <td>74.875000</td>\n",
              "      <td>2.666667</td>\n",
              "      <td>0.3</td>\n",
              "      <td>Jan</td>\n",
              "      <td>Jan-2015</td>\n",
              "      <td>2015</td>\n",
              "    </tr>\n",
              "  </tbody>\n",
              "</table>\n",
              "</div>"
            ],
            "text/plain": [
              "         date  mean_temp (deg C)  min_temp (deg C)  ...  month  month-year  year\n",
              "0  2015-01-01          -3.137500              -7.4  ...    Jan    Jan-2015  2015\n",
              "1  2015-01-02          -3.341667              -9.2  ...    Jan    Jan-2015  2015\n",
              "2  2015-01-03           1.458333               0.4  ...    Jan    Jan-2015  2015\n",
              "3  2015-01-04           2.108333              -0.2  ...    Jan    Jan-2015  2015\n",
              "4  2015-01-05          -0.841667              -5.3  ...    Jan    Jan-2015  2015\n",
              "\n",
              "[5 rows x 11 columns]"
            ]
          },
          "metadata": {
            "tags": []
          },
          "execution_count": 10
        }
      ]
    },
    {
      "cell_type": "code",
      "metadata": {
        "colab": {
          "base_uri": "https://localhost:8080/"
        },
        "id": "6NiFsEPbHlVd",
        "outputId": "1864efc0-b94d-467b-d9a8-c3d16297f8c9"
      },
      "source": [
        "len(inndf)"
      ],
      "execution_count": 11,
      "outputs": [
        {
          "output_type": "execute_result",
          "data": {
            "text/plain": [
              "1826"
            ]
          },
          "metadata": {
            "tags": []
          },
          "execution_count": 11
        }
      ]
    },
    {
      "cell_type": "code",
      "metadata": {
        "colab": {
          "base_uri": "https://localhost:8080/"
        },
        "id": "kCJk-1nB33bZ",
        "outputId": "7bfc84a2-220e-45a7-ea5c-c10e040c958d"
      },
      "source": [
        "inndf.dtypes"
      ],
      "execution_count": 12,
      "outputs": [
        {
          "output_type": "execute_result",
          "data": {
            "text/plain": [
              "date                   object\n",
              "mean_temp (deg C)     float64\n",
              "min_temp (deg C)      float64\n",
              "max_temp (deg C)      float64\n",
              "mean_pressure (mb)    float64\n",
              "mean_humidity (%)     float64\n",
              "mean_wind (ms-1)      float64\n",
              "precip_sum (mm)       float64\n",
              "month                  object\n",
              "month-year             object\n",
              "year                    int64\n",
              "dtype: object"
            ]
          },
          "metadata": {
            "tags": []
          },
          "execution_count": 12
        }
      ]
    },
    {
      "cell_type": "code",
      "metadata": {
        "colab": {
          "base_uri": "https://localhost:8080/"
        },
        "id": "DaQvuEYHENiP",
        "outputId": "0c84b739-6364-4195-9225-bb62e8cfb00a"
      },
      "source": [
        "inndf['year'].value_counts()"
      ],
      "execution_count": 13,
      "outputs": [
        {
          "output_type": "execute_result",
          "data": {
            "text/plain": [
              "2016    366\n",
              "2019    365\n",
              "2018    365\n",
              "2017    365\n",
              "2015    365\n",
              "Name: year, dtype: int64"
            ]
          },
          "metadata": {
            "tags": []
          },
          "execution_count": 13
        }
      ]
    },
    {
      "cell_type": "markdown",
      "metadata": {
        "id": "zeqth8gdMwuG"
      },
      "source": [
        " # load  city data"
      ]
    },
    {
      "cell_type": "code",
      "metadata": {
        "id": "QFvcmkKeWC1R"
      },
      "source": [
        "#inndf = pd.read_csv(r\"https://raw.githubusercontent.com/ds4geo/ds4geo/master/data/timeseries/meteo/Innsbruck_weather_2015-19.csv\")\r\n",
        "londf = pd.read_csv(r\"https://raw.githubusercontent.com/ds4geo/ds4geo/master/data/timeseries/meteo/London_weather_2015-19.csv\")\r\n",
        "sindf = pd.read_csv(r'https://raw.githubusercontent.com/ds4geo/ds4geo/master/data/timeseries/meteo/Singapore_weather_2015-19.csv')\r\n",
        "syddf = pd.read_csv(r'https://raw.githubusercontent.com/ds4geo/ds4geo/master/data/timeseries/meteo/Sydney_weather_2015-19.csv')\r\n",
        "tehdf = pd.read_csv(r'https://raw.githubusercontent.com/ds4geo/ds4geo/master/data/timeseries/meteo/Tehran_weather_2015-19.csv')\r\n",
        "\r\n",
        "\r\n",
        "\r\n"
      ],
      "execution_count": 17,
      "outputs": []
    },
    {
      "cell_type": "markdown",
      "metadata": {
        "id": "EQJ_Gk33NJuz"
      },
      "source": [
        "# by number of days. I.e sunny days, perfect days..."
      ]
    },
    {
      "cell_type": "code",
      "metadata": {
        "colab": {
          "base_uri": "https://localhost:8080/"
        },
        "id": "SZtWNWx07Fcd",
        "outputId": "df6cb1e9-e75b-4d50-8f2d-cfc139cfe20a"
      },
      "source": [
        "#no. of days without rain (annual average)\r\n",
        "inn_nrain = len(inndf[inndf['precip_sum (mm)'] == 0.0]) /5\r\n",
        "lon_nrain = len(londf[londf['precip_sum (mm)'] == 0.0]) /5\r\n",
        "print(lon_nrain, inn_nrain)\r\n",
        "\r\n",
        "# barometric pressure over 1022.689 mb indicates clear and stable (google.com)"
      ],
      "execution_count": 18,
      "outputs": [
        {
          "output_type": "stream",
          "text": [
            "198.0 165.8\n"
          ],
          "name": "stdout"
        }
      ]
    },
    {
      "cell_type": "code",
      "metadata": {
        "colab": {
          "base_uri": "https://localhost:8080/",
          "height": 419
        },
        "id": "xT-eM9KBORA0",
        "outputId": "354135bb-a5d7-4c00-f70e-d2dab9cc4c54"
      },
      "source": [
        "#perfect days\r\n",
        "inn_perf = inndf[(inndf[\"precip_sum (mm)\"] == 0.0) & (inndf[\"max_temp (deg C)\"] > 25) & (inndf[\"min_temp (deg C)\"] > 10) & (inndf[\"mean_wind (ms-1)\"] < 4)]\r\n",
        "inn_perf"
      ],
      "execution_count": 19,
      "outputs": [
        {
          "output_type": "execute_result",
          "data": {
            "text/html": [
              "<div>\n",
              "<style scoped>\n",
              "    .dataframe tbody tr th:only-of-type {\n",
              "        vertical-align: middle;\n",
              "    }\n",
              "\n",
              "    .dataframe tbody tr th {\n",
              "        vertical-align: top;\n",
              "    }\n",
              "\n",
              "    .dataframe thead th {\n",
              "        text-align: right;\n",
              "    }\n",
              "</style>\n",
              "<table border=\"1\" class=\"dataframe\">\n",
              "  <thead>\n",
              "    <tr style=\"text-align: right;\">\n",
              "      <th></th>\n",
              "      <th>date</th>\n",
              "      <th>mean_temp (deg C)</th>\n",
              "      <th>min_temp (deg C)</th>\n",
              "      <th>max_temp (deg C)</th>\n",
              "      <th>mean_pressure (mb)</th>\n",
              "      <th>mean_humidity (%)</th>\n",
              "      <th>mean_wind (ms-1)</th>\n",
              "      <th>precip_sum (mm)</th>\n",
              "      <th>month</th>\n",
              "      <th>month-year</th>\n",
              "      <th>year</th>\n",
              "    </tr>\n",
              "  </thead>\n",
              "  <tbody>\n",
              "    <tr>\n",
              "      <th>137</th>\n",
              "      <td>2015-05-18</td>\n",
              "      <td>18.804167</td>\n",
              "      <td>12.4</td>\n",
              "      <td>27.8</td>\n",
              "      <td>708.341667</td>\n",
              "      <td>62.708333</td>\n",
              "      <td>2.500000</td>\n",
              "      <td>0.0</td>\n",
              "      <td>May</td>\n",
              "      <td>May-2015</td>\n",
              "      <td>2015</td>\n",
              "    </tr>\n",
              "    <tr>\n",
              "      <th>155</th>\n",
              "      <td>2015-06-05</td>\n",
              "      <td>24.300000</td>\n",
              "      <td>15.0</td>\n",
              "      <td>32.1</td>\n",
              "      <td>714.460000</td>\n",
              "      <td>59.700000</td>\n",
              "      <td>1.900000</td>\n",
              "      <td>0.0</td>\n",
              "      <td>Jun</td>\n",
              "      <td>Jun-2015</td>\n",
              "      <td>2015</td>\n",
              "    </tr>\n",
              "    <tr>\n",
              "      <th>176</th>\n",
              "      <td>2015-06-26</td>\n",
              "      <td>19.410000</td>\n",
              "      <td>10.1</td>\n",
              "      <td>25.7</td>\n",
              "      <td>714.620000</td>\n",
              "      <td>57.400000</td>\n",
              "      <td>2.000000</td>\n",
              "      <td>0.0</td>\n",
              "      <td>Jun</td>\n",
              "      <td>Jun-2015</td>\n",
              "      <td>2015</td>\n",
              "    </tr>\n",
              "    <tr>\n",
              "      <th>179</th>\n",
              "      <td>2015-06-29</td>\n",
              "      <td>20.310000</td>\n",
              "      <td>12.6</td>\n",
              "      <td>26.3</td>\n",
              "      <td>714.800000</td>\n",
              "      <td>60.800000</td>\n",
              "      <td>1.600000</td>\n",
              "      <td>0.0</td>\n",
              "      <td>Jun</td>\n",
              "      <td>Jun-2015</td>\n",
              "      <td>2015</td>\n",
              "    </tr>\n",
              "    <tr>\n",
              "      <th>180</th>\n",
              "      <td>2015-06-30</td>\n",
              "      <td>21.830000</td>\n",
              "      <td>12.5</td>\n",
              "      <td>29.3</td>\n",
              "      <td>714.460000</td>\n",
              "      <td>58.000000</td>\n",
              "      <td>1.800000</td>\n",
              "      <td>0.0</td>\n",
              "      <td>Jun</td>\n",
              "      <td>Jun-2015</td>\n",
              "      <td>2015</td>\n",
              "    </tr>\n",
              "    <tr>\n",
              "      <th>...</th>\n",
              "      <td>...</td>\n",
              "      <td>...</td>\n",
              "      <td>...</td>\n",
              "      <td>...</td>\n",
              "      <td>...</td>\n",
              "      <td>...</td>\n",
              "      <td>...</td>\n",
              "      <td>...</td>\n",
              "      <td>...</td>\n",
              "      <td>...</td>\n",
              "      <td>...</td>\n",
              "    </tr>\n",
              "    <tr>\n",
              "      <th>1702</th>\n",
              "      <td>2019-08-30</td>\n",
              "      <td>20.079167</td>\n",
              "      <td>13.3</td>\n",
              "      <td>28.0</td>\n",
              "      <td>715.533333</td>\n",
              "      <td>74.083333</td>\n",
              "      <td>1.750000</td>\n",
              "      <td>0.0</td>\n",
              "      <td>Aug</td>\n",
              "      <td>Aug-2019</td>\n",
              "      <td>2019</td>\n",
              "    </tr>\n",
              "    <tr>\n",
              "      <th>1703</th>\n",
              "      <td>2019-08-31</td>\n",
              "      <td>20.912500</td>\n",
              "      <td>13.5</td>\n",
              "      <td>30.1</td>\n",
              "      <td>712.175000</td>\n",
              "      <td>68.958333</td>\n",
              "      <td>3.416667</td>\n",
              "      <td>0.0</td>\n",
              "      <td>Aug</td>\n",
              "      <td>Aug-2019</td>\n",
              "      <td>2019</td>\n",
              "    </tr>\n",
              "    <tr>\n",
              "      <th>1718</th>\n",
              "      <td>2019-09-15</td>\n",
              "      <td>18.520833</td>\n",
              "      <td>11.1</td>\n",
              "      <td>27.8</td>\n",
              "      <td>717.195833</td>\n",
              "      <td>75.875000</td>\n",
              "      <td>1.375000</td>\n",
              "      <td>0.0</td>\n",
              "      <td>Sep</td>\n",
              "      <td>Sep-2019</td>\n",
              "      <td>2019</td>\n",
              "    </tr>\n",
              "    <tr>\n",
              "      <th>1719</th>\n",
              "      <td>2019-09-16</td>\n",
              "      <td>18.666667</td>\n",
              "      <td>11.7</td>\n",
              "      <td>27.9</td>\n",
              "      <td>713.920833</td>\n",
              "      <td>73.666667</td>\n",
              "      <td>1.416667</td>\n",
              "      <td>0.0</td>\n",
              "      <td>Sep</td>\n",
              "      <td>Sep-2019</td>\n",
              "      <td>2019</td>\n",
              "    </tr>\n",
              "    <tr>\n",
              "      <th>1720</th>\n",
              "      <td>2019-09-17</td>\n",
              "      <td>18.079167</td>\n",
              "      <td>12.1</td>\n",
              "      <td>25.1</td>\n",
              "      <td>711.529167</td>\n",
              "      <td>73.375000</td>\n",
              "      <td>1.333333</td>\n",
              "      <td>0.0</td>\n",
              "      <td>Sep</td>\n",
              "      <td>Sep-2019</td>\n",
              "      <td>2019</td>\n",
              "    </tr>\n",
              "  </tbody>\n",
              "</table>\n",
              "<p>139 rows × 11 columns</p>\n",
              "</div>"
            ],
            "text/plain": [
              "            date  mean_temp (deg C)  min_temp (deg C)  ...  month  month-year  year\n",
              "137   2015-05-18          18.804167              12.4  ...    May    May-2015  2015\n",
              "155   2015-06-05          24.300000              15.0  ...    Jun    Jun-2015  2015\n",
              "176   2015-06-26          19.410000              10.1  ...    Jun    Jun-2015  2015\n",
              "179   2015-06-29          20.310000              12.6  ...    Jun    Jun-2015  2015\n",
              "180   2015-06-30          21.830000              12.5  ...    Jun    Jun-2015  2015\n",
              "...          ...                ...               ...  ...    ...         ...   ...\n",
              "1702  2019-08-30          20.079167              13.3  ...    Aug    Aug-2019  2019\n",
              "1703  2019-08-31          20.912500              13.5  ...    Aug    Aug-2019  2019\n",
              "1718  2019-09-15          18.520833              11.1  ...    Sep    Sep-2019  2019\n",
              "1719  2019-09-16          18.666667              11.7  ...    Sep    Sep-2019  2019\n",
              "1720  2019-09-17          18.079167              12.1  ...    Sep    Sep-2019  2019\n",
              "\n",
              "[139 rows x 11 columns]"
            ]
          },
          "metadata": {
            "tags": []
          },
          "execution_count": 19
        }
      ]
    },
    {
      "cell_type": "code",
      "metadata": {
        "colab": {
          "base_uri": "https://localhost:8080/",
          "height": 204
        },
        "id": "YDthbamPanak",
        "outputId": "2ff173dc-a90d-48c4-c1da-98f053b3a44b"
      },
      "source": [
        "#create new dataframe\r\n",
        "citystats = pd.DataFrame({'City': ['Innsbruck', 'London', 'Singapore', 'Sydney', 'Tehran']})\r\n",
        "citystats['Days of no rain'] = [inn_nrain, lon_nrain, '', '', '']\r\n",
        "citystats"
      ],
      "execution_count": 20,
      "outputs": [
        {
          "output_type": "execute_result",
          "data": {
            "text/html": [
              "<div>\n",
              "<style scoped>\n",
              "    .dataframe tbody tr th:only-of-type {\n",
              "        vertical-align: middle;\n",
              "    }\n",
              "\n",
              "    .dataframe tbody tr th {\n",
              "        vertical-align: top;\n",
              "    }\n",
              "\n",
              "    .dataframe thead th {\n",
              "        text-align: right;\n",
              "    }\n",
              "</style>\n",
              "<table border=\"1\" class=\"dataframe\">\n",
              "  <thead>\n",
              "    <tr style=\"text-align: right;\">\n",
              "      <th></th>\n",
              "      <th>City</th>\n",
              "      <th>Days of no rain</th>\n",
              "    </tr>\n",
              "  </thead>\n",
              "  <tbody>\n",
              "    <tr>\n",
              "      <th>0</th>\n",
              "      <td>Innsbruck</td>\n",
              "      <td>165.8</td>\n",
              "    </tr>\n",
              "    <tr>\n",
              "      <th>1</th>\n",
              "      <td>London</td>\n",
              "      <td>198</td>\n",
              "    </tr>\n",
              "    <tr>\n",
              "      <th>2</th>\n",
              "      <td>Singapore</td>\n",
              "      <td></td>\n",
              "    </tr>\n",
              "    <tr>\n",
              "      <th>3</th>\n",
              "      <td>Sydney</td>\n",
              "      <td></td>\n",
              "    </tr>\n",
              "    <tr>\n",
              "      <th>4</th>\n",
              "      <td>Tehran</td>\n",
              "      <td></td>\n",
              "    </tr>\n",
              "  </tbody>\n",
              "</table>\n",
              "</div>"
            ],
            "text/plain": [
              "        City Days of no rain\n",
              "0  Innsbruck           165.8\n",
              "1     London             198\n",
              "2  Singapore                \n",
              "3     Sydney                \n",
              "4     Tehran                "
            ]
          },
          "metadata": {
            "tags": []
          },
          "execution_count": 20
        }
      ]
    },
    {
      "cell_type": "markdown",
      "metadata": {
        "id": "Lu6elJICNdak"
      },
      "source": [
        "# by months"
      ]
    },
    {
      "cell_type": "code",
      "metadata": {
        "id": "lxlt5cmEqRt7"
      },
      "source": [
        "#get average day by month\r\n",
        "month_ordered = ['Jan', 'Feb', 'Mar', 'Apr', 'May', 'Jun', 'Jul', 'Aug', 'Sep', 'Oct', 'Nov', 'Dec']\r\n",
        "\r\n",
        "inndf_months = inndf.groupby(by=['month']).mean().reindex(month_ordered).drop(columns=['year'])\r\n",
        "londf_months = londf.groupby(by=['month']).mean().reindex(month_ordered).drop(columns=['year'])\r\n",
        "sindf_months = sindf.groupby(by=['month']).mean().reindex(month_ordered).drop(columns=['year'])\r\n",
        "syddf_months = syddf.groupby(by=['month']).mean().reindex(month_ordered).drop(columns=['year'])\r\n",
        "tehdf_months = tehdf.groupby(by=['month']).mean().reindex(month_ordered).drop(columns=['year'])\r\n",
        "\r\n"
      ],
      "execution_count": null,
      "outputs": []
    },
    {
      "cell_type": "code",
      "metadata": {
        "colab": {
          "base_uri": "https://localhost:8080/",
          "height": 483
        },
        "id": "bBgDe5vyuvTj",
        "outputId": "fbc67012-b38b-48e4-bf26-2237a13ec8fb"
      },
      "source": [
        "#compare data frames \r\n",
        "inndf_months.compare(londf_months, keep_equal=True)"
      ],
      "execution_count": 24,
      "outputs": [
        {
          "output_type": "execute_result",
          "data": {
            "text/html": [
              "<div>\n",
              "<style scoped>\n",
              "    .dataframe tbody tr th:only-of-type {\n",
              "        vertical-align: middle;\n",
              "    }\n",
              "\n",
              "    .dataframe tbody tr th {\n",
              "        vertical-align: top;\n",
              "    }\n",
              "\n",
              "    .dataframe thead tr th {\n",
              "        text-align: left;\n",
              "    }\n",
              "\n",
              "    .dataframe thead tr:last-of-type th {\n",
              "        text-align: right;\n",
              "    }\n",
              "</style>\n",
              "<table border=\"1\" class=\"dataframe\">\n",
              "  <thead>\n",
              "    <tr>\n",
              "      <th></th>\n",
              "      <th colspan=\"2\" halign=\"left\">mean_temp (deg C)</th>\n",
              "      <th colspan=\"2\" halign=\"left\">min_temp (deg C)</th>\n",
              "      <th colspan=\"2\" halign=\"left\">max_temp (deg C)</th>\n",
              "      <th colspan=\"2\" halign=\"left\">mean_pressure (mb)</th>\n",
              "      <th colspan=\"2\" halign=\"left\">mean_humidity (%)</th>\n",
              "      <th colspan=\"2\" halign=\"left\">mean_wind (ms-1)</th>\n",
              "      <th colspan=\"2\" halign=\"left\">precip_sum (mm)</th>\n",
              "    </tr>\n",
              "    <tr>\n",
              "      <th></th>\n",
              "      <th>self</th>\n",
              "      <th>other</th>\n",
              "      <th>self</th>\n",
              "      <th>other</th>\n",
              "      <th>self</th>\n",
              "      <th>other</th>\n",
              "      <th>self</th>\n",
              "      <th>other</th>\n",
              "      <th>self</th>\n",
              "      <th>other</th>\n",
              "      <th>self</th>\n",
              "      <th>other</th>\n",
              "      <th>self</th>\n",
              "      <th>other</th>\n",
              "    </tr>\n",
              "    <tr>\n",
              "      <th>month</th>\n",
              "      <th></th>\n",
              "      <th></th>\n",
              "      <th></th>\n",
              "      <th></th>\n",
              "      <th></th>\n",
              "      <th></th>\n",
              "      <th></th>\n",
              "      <th></th>\n",
              "      <th></th>\n",
              "      <th></th>\n",
              "      <th></th>\n",
              "      <th></th>\n",
              "      <th></th>\n",
              "      <th></th>\n",
              "    </tr>\n",
              "  </thead>\n",
              "  <tbody>\n",
              "    <tr>\n",
              "      <th>Jan</th>\n",
              "      <td>-1.036986</td>\n",
              "      <td>5.452045</td>\n",
              "      <td>-4.572258</td>\n",
              "      <td>2.170323</td>\n",
              "      <td>3.523226</td>\n",
              "      <td>8.486452</td>\n",
              "      <td>710.995404</td>\n",
              "      <td>759.047569</td>\n",
              "      <td>84.563344</td>\n",
              "      <td>83.969628</td>\n",
              "      <td>2.028521</td>\n",
              "      <td>4.520082</td>\n",
              "      <td>1097.4</td>\n",
              "      <td>403.2</td>\n",
              "    </tr>\n",
              "    <tr>\n",
              "      <th>Feb</th>\n",
              "      <td>1.459536</td>\n",
              "      <td>5.888956</td>\n",
              "      <td>-2.696454</td>\n",
              "      <td>2.643262</td>\n",
              "      <td>7.192199</td>\n",
              "      <td>9.282979</td>\n",
              "      <td>710.668417</td>\n",
              "      <td>759.464393</td>\n",
              "      <td>77.120303</td>\n",
              "      <td>80.577975</td>\n",
              "      <td>2.071454</td>\n",
              "      <td>4.467551</td>\n",
              "      <td>445.4</td>\n",
              "      <td>281.2</td>\n",
              "    </tr>\n",
              "    <tr>\n",
              "      <th>Mar</th>\n",
              "      <td>6.061640</td>\n",
              "      <td>7.928891</td>\n",
              "      <td>0.803871</td>\n",
              "      <td>4.552667</td>\n",
              "      <td>12.434839</td>\n",
              "      <td>11.810000</td>\n",
              "      <td>709.293662</td>\n",
              "      <td>758.189557</td>\n",
              "      <td>69.261675</td>\n",
              "      <td>76.876010</td>\n",
              "      <td>2.447647</td>\n",
              "      <td>4.769790</td>\n",
              "      <td>698.6</td>\n",
              "      <td>350.4</td>\n",
              "    </tr>\n",
              "    <tr>\n",
              "      <th>Apr</th>\n",
              "      <td>10.601215</td>\n",
              "      <td>10.405160</td>\n",
              "      <td>4.645333</td>\n",
              "      <td>6.032000</td>\n",
              "      <td>16.982667</td>\n",
              "      <td>15.349333</td>\n",
              "      <td>710.002559</td>\n",
              "      <td>760.006455</td>\n",
              "      <td>64.274459</td>\n",
              "      <td>70.594834</td>\n",
              "      <td>2.805385</td>\n",
              "      <td>3.937399</td>\n",
              "      <td>838.1</td>\n",
              "      <td>215.0</td>\n",
              "    </tr>\n",
              "    <tr>\n",
              "      <th>May</th>\n",
              "      <td>14.001605</td>\n",
              "      <td>13.945328</td>\n",
              "      <td>8.596129</td>\n",
              "      <td>9.387742</td>\n",
              "      <td>20.202581</td>\n",
              "      <td>19.108387</td>\n",
              "      <td>709.830970</td>\n",
              "      <td>759.972213</td>\n",
              "      <td>69.726098</td>\n",
              "      <td>69.518787</td>\n",
              "      <td>2.369585</td>\n",
              "      <td>4.023179</td>\n",
              "      <td>1601.9</td>\n",
              "      <td>346.2</td>\n",
              "    </tr>\n",
              "    <tr>\n",
              "      <th>Jun</th>\n",
              "      <td>18.983879</td>\n",
              "      <td>17.205025</td>\n",
              "      <td>13.187333</td>\n",
              "      <td>12.597333</td>\n",
              "      <td>25.584000</td>\n",
              "      <td>22.528667</td>\n",
              "      <td>711.072269</td>\n",
              "      <td>760.063668</td>\n",
              "      <td>68.044504</td>\n",
              "      <td>69.837063</td>\n",
              "      <td>2.257706</td>\n",
              "      <td>4.277428</td>\n",
              "      <td>1666.0</td>\n",
              "      <td>357.2</td>\n",
              "    </tr>\n",
              "    <tr>\n",
              "      <th>Jul</th>\n",
              "      <td>19.910417</td>\n",
              "      <td>19.583573</td>\n",
              "      <td>14.322581</td>\n",
              "      <td>14.866452</td>\n",
              "      <td>26.470323</td>\n",
              "      <td>25.020000</td>\n",
              "      <td>711.496566</td>\n",
              "      <td>759.527604</td>\n",
              "      <td>70.569659</td>\n",
              "      <td>65.276267</td>\n",
              "      <td>1.934507</td>\n",
              "      <td>4.183529</td>\n",
              "      <td>1780.3</td>\n",
              "      <td>371.2</td>\n",
              "    </tr>\n",
              "    <tr>\n",
              "      <th>Aug</th>\n",
              "      <td>19.554905</td>\n",
              "      <td>18.449890</td>\n",
              "      <td>13.970323</td>\n",
              "      <td>14.087097</td>\n",
              "      <td>26.247097</td>\n",
              "      <td>23.680645</td>\n",
              "      <td>712.556892</td>\n",
              "      <td>759.849124</td>\n",
              "      <td>72.964836</td>\n",
              "      <td>70.730940</td>\n",
              "      <td>2.022288</td>\n",
              "      <td>4.091937</td>\n",
              "      <td>2318.1</td>\n",
              "      <td>420.8</td>\n",
              "    </tr>\n",
              "    <tr>\n",
              "      <th>Sep</th>\n",
              "      <td>14.570158</td>\n",
              "      <td>15.556601</td>\n",
              "      <td>9.645333</td>\n",
              "      <td>11.391333</td>\n",
              "      <td>20.586000</td>\n",
              "      <td>20.480000</td>\n",
              "      <td>712.863897</td>\n",
              "      <td>760.780904</td>\n",
              "      <td>76.828923</td>\n",
              "      <td>74.847995</td>\n",
              "      <td>1.865618</td>\n",
              "      <td>3.991965</td>\n",
              "      <td>1394.3</td>\n",
              "      <td>337.0</td>\n",
              "    </tr>\n",
              "    <tr>\n",
              "      <th>Oct</th>\n",
              "      <td>10.473568</td>\n",
              "      <td>12.279683</td>\n",
              "      <td>5.712258</td>\n",
              "      <td>8.874194</td>\n",
              "      <td>16.565806</td>\n",
              "      <td>16.157419</td>\n",
              "      <td>712.652404</td>\n",
              "      <td>760.885744</td>\n",
              "      <td>77.592183</td>\n",
              "      <td>81.077863</td>\n",
              "      <td>2.229946</td>\n",
              "      <td>3.864467</td>\n",
              "      <td>917.9</td>\n",
              "      <td>349.8</td>\n",
              "    </tr>\n",
              "    <tr>\n",
              "      <th>Nov</th>\n",
              "      <td>5.024660</td>\n",
              "      <td>8.424954</td>\n",
              "      <td>0.966667</td>\n",
              "      <td>5.296667</td>\n",
              "      <td>9.968000</td>\n",
              "      <td>11.449333</td>\n",
              "      <td>710.184243</td>\n",
              "      <td>756.737416</td>\n",
              "      <td>80.483692</td>\n",
              "      <td>85.379357</td>\n",
              "      <td>2.308526</td>\n",
              "      <td>4.239466</td>\n",
              "      <td>635.1</td>\n",
              "      <td>422.8</td>\n",
              "    </tr>\n",
              "    <tr>\n",
              "      <th>Dec</th>\n",
              "      <td>0.367959</td>\n",
              "      <td>7.878952</td>\n",
              "      <td>-3.310968</td>\n",
              "      <td>4.832258</td>\n",
              "      <td>5.578065</td>\n",
              "      <td>10.560645</td>\n",
              "      <td>715.211790</td>\n",
              "      <td>760.626703</td>\n",
              "      <td>83.579367</td>\n",
              "      <td>86.519029</td>\n",
              "      <td>1.699555</td>\n",
              "      <td>4.672482</td>\n",
              "      <td>629.8</td>\n",
              "      <td>452.8</td>\n",
              "    </tr>\n",
              "  </tbody>\n",
              "</table>\n",
              "</div>"
            ],
            "text/plain": [
              "      mean_temp (deg C)             ... precip_sum (mm)       \n",
              "                   self      other  ...            self  other\n",
              "month                               ...                       \n",
              "Jan           -1.036986   5.452045  ...          1097.4  403.2\n",
              "Feb            1.459536   5.888956  ...           445.4  281.2\n",
              "Mar            6.061640   7.928891  ...           698.6  350.4\n",
              "Apr           10.601215  10.405160  ...           838.1  215.0\n",
              "May           14.001605  13.945328  ...          1601.9  346.2\n",
              "Jun           18.983879  17.205025  ...          1666.0  357.2\n",
              "Jul           19.910417  19.583573  ...          1780.3  371.2\n",
              "Aug           19.554905  18.449890  ...          2318.1  420.8\n",
              "Sep           14.570158  15.556601  ...          1394.3  337.0\n",
              "Oct           10.473568  12.279683  ...           917.9  349.8\n",
              "Nov            5.024660   8.424954  ...           635.1  422.8\n",
              "Dec            0.367959   7.878952  ...           629.8  452.8\n",
              "\n",
              "[12 rows x 14 columns]"
            ]
          },
          "metadata": {
            "tags": []
          },
          "execution_count": 24
        }
      ]
    },
    {
      "cell_type": "code",
      "metadata": {
        "colab": {
          "base_uri": "https://localhost:8080/",
          "height": 452
        },
        "id": "KqTXXPUvzrOF",
        "outputId": "f8d3ad43-26dd-4383-e6c5-f8e8d1f29e3a"
      },
      "source": [
        "# maybe the the sum of rainfall per month is more intuitive\r\n",
        "\r\n",
        "# make a new df for groupby.sum()\r\n",
        "inndf_sum = inndf.groupby(by=['month']).sum().reindex(month_ordered)\r\n",
        "londf_sum = londf.groupby(by=['month']).sum().reindex(month_ordered)\r\n",
        "# substitute into inndf_months\r\n",
        "inndf_months['precip_sum (mm)'] = inndf_sum['precip_sum (mm)']\r\n",
        "londf_months['precip_sum (mm)'] = londf_sum['precip_sum (mm)']\r\n",
        "inndf_months"
      ],
      "execution_count": 26,
      "outputs": [
        {
          "output_type": "execute_result",
          "data": {
            "text/html": [
              "<div>\n",
              "<style scoped>\n",
              "    .dataframe tbody tr th:only-of-type {\n",
              "        vertical-align: middle;\n",
              "    }\n",
              "\n",
              "    .dataframe tbody tr th {\n",
              "        vertical-align: top;\n",
              "    }\n",
              "\n",
              "    .dataframe thead th {\n",
              "        text-align: right;\n",
              "    }\n",
              "</style>\n",
              "<table border=\"1\" class=\"dataframe\">\n",
              "  <thead>\n",
              "    <tr style=\"text-align: right;\">\n",
              "      <th></th>\n",
              "      <th>mean_temp (deg C)</th>\n",
              "      <th>min_temp (deg C)</th>\n",
              "      <th>max_temp (deg C)</th>\n",
              "      <th>mean_pressure (mb)</th>\n",
              "      <th>mean_humidity (%)</th>\n",
              "      <th>mean_wind (ms-1)</th>\n",
              "      <th>precip_sum (mm)</th>\n",
              "    </tr>\n",
              "    <tr>\n",
              "      <th>month</th>\n",
              "      <th></th>\n",
              "      <th></th>\n",
              "      <th></th>\n",
              "      <th></th>\n",
              "      <th></th>\n",
              "      <th></th>\n",
              "      <th></th>\n",
              "    </tr>\n",
              "  </thead>\n",
              "  <tbody>\n",
              "    <tr>\n",
              "      <th>Jan</th>\n",
              "      <td>-1.036986</td>\n",
              "      <td>-4.572258</td>\n",
              "      <td>3.523226</td>\n",
              "      <td>710.995404</td>\n",
              "      <td>84.563344</td>\n",
              "      <td>2.028521</td>\n",
              "      <td>1097.4</td>\n",
              "    </tr>\n",
              "    <tr>\n",
              "      <th>Feb</th>\n",
              "      <td>1.459536</td>\n",
              "      <td>-2.696454</td>\n",
              "      <td>7.192199</td>\n",
              "      <td>710.668417</td>\n",
              "      <td>77.120303</td>\n",
              "      <td>2.071454</td>\n",
              "      <td>445.4</td>\n",
              "    </tr>\n",
              "    <tr>\n",
              "      <th>Mar</th>\n",
              "      <td>6.061640</td>\n",
              "      <td>0.803871</td>\n",
              "      <td>12.434839</td>\n",
              "      <td>709.293662</td>\n",
              "      <td>69.261675</td>\n",
              "      <td>2.447647</td>\n",
              "      <td>698.6</td>\n",
              "    </tr>\n",
              "    <tr>\n",
              "      <th>Apr</th>\n",
              "      <td>10.601215</td>\n",
              "      <td>4.645333</td>\n",
              "      <td>16.982667</td>\n",
              "      <td>710.002559</td>\n",
              "      <td>64.274459</td>\n",
              "      <td>2.805385</td>\n",
              "      <td>838.1</td>\n",
              "    </tr>\n",
              "    <tr>\n",
              "      <th>May</th>\n",
              "      <td>14.001605</td>\n",
              "      <td>8.596129</td>\n",
              "      <td>20.202581</td>\n",
              "      <td>709.830970</td>\n",
              "      <td>69.726098</td>\n",
              "      <td>2.369585</td>\n",
              "      <td>1601.9</td>\n",
              "    </tr>\n",
              "    <tr>\n",
              "      <th>Jun</th>\n",
              "      <td>18.983879</td>\n",
              "      <td>13.187333</td>\n",
              "      <td>25.584000</td>\n",
              "      <td>711.072269</td>\n",
              "      <td>68.044504</td>\n",
              "      <td>2.257706</td>\n",
              "      <td>1666.0</td>\n",
              "    </tr>\n",
              "    <tr>\n",
              "      <th>Jul</th>\n",
              "      <td>19.910417</td>\n",
              "      <td>14.322581</td>\n",
              "      <td>26.470323</td>\n",
              "      <td>711.496566</td>\n",
              "      <td>70.569659</td>\n",
              "      <td>1.934507</td>\n",
              "      <td>1780.3</td>\n",
              "    </tr>\n",
              "    <tr>\n",
              "      <th>Aug</th>\n",
              "      <td>19.554905</td>\n",
              "      <td>13.970323</td>\n",
              "      <td>26.247097</td>\n",
              "      <td>712.556892</td>\n",
              "      <td>72.964836</td>\n",
              "      <td>2.022288</td>\n",
              "      <td>2318.1</td>\n",
              "    </tr>\n",
              "    <tr>\n",
              "      <th>Sep</th>\n",
              "      <td>14.570158</td>\n",
              "      <td>9.645333</td>\n",
              "      <td>20.586000</td>\n",
              "      <td>712.863897</td>\n",
              "      <td>76.828923</td>\n",
              "      <td>1.865618</td>\n",
              "      <td>1394.3</td>\n",
              "    </tr>\n",
              "    <tr>\n",
              "      <th>Oct</th>\n",
              "      <td>10.473568</td>\n",
              "      <td>5.712258</td>\n",
              "      <td>16.565806</td>\n",
              "      <td>712.652404</td>\n",
              "      <td>77.592183</td>\n",
              "      <td>2.229946</td>\n",
              "      <td>917.9</td>\n",
              "    </tr>\n",
              "    <tr>\n",
              "      <th>Nov</th>\n",
              "      <td>5.024660</td>\n",
              "      <td>0.966667</td>\n",
              "      <td>9.968000</td>\n",
              "      <td>710.184243</td>\n",
              "      <td>80.483692</td>\n",
              "      <td>2.308526</td>\n",
              "      <td>635.1</td>\n",
              "    </tr>\n",
              "    <tr>\n",
              "      <th>Dec</th>\n",
              "      <td>0.367959</td>\n",
              "      <td>-3.310968</td>\n",
              "      <td>5.578065</td>\n",
              "      <td>715.211790</td>\n",
              "      <td>83.579367</td>\n",
              "      <td>1.699555</td>\n",
              "      <td>629.8</td>\n",
              "    </tr>\n",
              "  </tbody>\n",
              "</table>\n",
              "</div>"
            ],
            "text/plain": [
              "       mean_temp (deg C)  min_temp (deg C)  ...  mean_wind (ms-1)  precip_sum (mm)\n",
              "month                                       ...                                   \n",
              "Jan            -1.036986         -4.572258  ...          2.028521           1097.4\n",
              "Feb             1.459536         -2.696454  ...          2.071454            445.4\n",
              "Mar             6.061640          0.803871  ...          2.447647            698.6\n",
              "Apr            10.601215          4.645333  ...          2.805385            838.1\n",
              "May            14.001605          8.596129  ...          2.369585           1601.9\n",
              "Jun            18.983879         13.187333  ...          2.257706           1666.0\n",
              "Jul            19.910417         14.322581  ...          1.934507           1780.3\n",
              "Aug            19.554905         13.970323  ...          2.022288           2318.1\n",
              "Sep            14.570158          9.645333  ...          1.865618           1394.3\n",
              "Oct            10.473568          5.712258  ...          2.229946            917.9\n",
              "Nov             5.024660          0.966667  ...          2.308526            635.1\n",
              "Dec             0.367959         -3.310968  ...          1.699555            629.8\n",
              "\n",
              "[12 rows x 7 columns]"
            ]
          },
          "metadata": {
            "tags": []
          },
          "execution_count": 26
        }
      ]
    },
    {
      "cell_type": "code",
      "metadata": {
        "colab": {
          "base_uri": "https://localhost:8080/",
          "height": 569
        },
        "id": "TAfQWFXyuK6z",
        "outputId": "43b51383-9197-4c70-93cf-ec39f12b1fde"
      },
      "source": [
        "#graphs\r\n",
        "inndf_months.plot(y=['precip_sum (mm)'], kind= 'bar')\r\n",
        "inndf_months.plot(y=['mean_temp (deg C)'])"
      ],
      "execution_count": 28,
      "outputs": [
        {
          "output_type": "execute_result",
          "data": {
            "text/plain": [
              "<matplotlib.axes._subplots.AxesSubplot at 0x7f6cfcb9ecf8>"
            ]
          },
          "metadata": {
            "tags": []
          },
          "execution_count": 28
        },
        {
          "output_type": "display_data",
          "data": {
            "image/png": "[encoded data removed]",
            "text/plain": [
              "<Figure size 432x288 with 1 Axes>"
            ]
          },
          "metadata": {
            "tags": [],
            "needs_background": "light"
          }
        },
        {
          "output_type": "display_data",
          "data": {
            "image/png": "[encoded data removed]",
            "text/plain": [
              "<Figure size 432x288 with 1 Axes>"
            ]
          },
          "metadata": {
            "tags": [],
            "needs_background": "light"
          }
        }
      ]
    },
    {
      "cell_type": "code",
      "metadata": {
        "id": "Z-LUtGgvK-a7",
        "colab": {
          "base_uri": "https://localhost:8080/",
          "height": 129
        },
        "outputId": "4caf35f2-7b1e-438e-f561-2d9cd97abcdb"
      },
      "source": [
        "#Plot with subplots (still learning this one, needs work)\r\n",
        "fig, ax = plt.subplots()\r\n",
        "\r\n",
        "inndf_months.plot(y=['precip_sum (mm)'], kind= 'bar', ax=ax)\r\n",
        "londf_months.plot(y=['precip_sum (mm)']), kind= 'bar', ax=ax2)"
      ],
      "execution_count": 23,
      "outputs": [
        {
          "output_type": "error",
          "ename": "SyntaxError",
          "evalue": "ignored",
          "traceback": [
            "\u001b[0;36m  File \u001b[0;32m\"<ipython-input-23-68d4545a8f8f>\"\u001b[0;36m, line \u001b[0;32m5\u001b[0m\n\u001b[0;31m    londf_months.plot(y=['precip_sum (mm)']), kind= 'bar', ax=ax2)\u001b[0m\n\u001b[0m                                                                 ^\u001b[0m\n\u001b[0;31mSyntaxError\u001b[0m\u001b[0;31m:\u001b[0m invalid syntax\n"
          ]
        }
      ]
    },
    {
      "cell_type": "markdown",
      "metadata": {
        "id": "qJm34e6MNjUG"
      },
      "source": [
        "# statistical comparisons"
      ]
    },
    {
      "cell_type": "code",
      "metadata": {
        "id": "lmQwMkRt11Cy",
        "colab": {
          "base_uri": "https://localhost:8080/"
        },
        "outputId": "c49a70b1-28a9-4121-d0c3-6d602edea3c7"
      },
      "source": [
        "\r\n",
        "# Analysis of Variance Test (ANOVA) \r\n",
        "from scipy.stats import f_oneway\r\n",
        "\r\n",
        "#compare mean temperatures between innsbruck and london\r\n",
        "stat, p = f_oneway(inndf_months['mean_temp (deg C)'], londf_months['mean_temp (deg C)'])\r\n",
        "print('stat=%.3f, p=%.3f' % (stat, p))\r\n",
        "if p > 0.05:\r\n",
        "\tprint('Not Significantly different')\r\n",
        "else:\r\n",
        "\tprint('Significantly different')\r\n"
      ],
      "execution_count": 25,
      "outputs": [
        {
          "output_type": "stream",
          "text": [
            "stat=0.536, p=0.472\n",
            "Not Significantly different\n"
          ],
          "name": "stdout"
        }
      ]
    },
    {
      "cell_type": "code",
      "metadata": {
        "id": "rqMTAVj_Hqxt"
      },
      "source": [
        ""
      ],
      "execution_count": null,
      "outputs": []
    }
  ]
}