{
  "nbformat": 4,
  "nbformat_minor": 0,
  "metadata": {
    "colab": {
      "name": "weather.ipynb",
      "provenance": [],
      "collapsed_sections": [],
      "authorship_tag": "ABX9TyM/5nIV5nzzS6QmL8rPUCNw",
      "include_colab_link": true
    },
    "kernelspec": {
      "name": "python3",
      "display_name": "Python 3"
    }
  },
  "cells": [
    {
      "cell_type": "markdown",
      "metadata": {
        "id": "view-in-github",
        "colab_type": "text"
      },
      "source": [
        "<a href=\"https://colab.research.google.com/github/dwhew/data_science/blob/main/weather.ipynb\" target=\"_parent\"><img src=\"https://colab.research.google.com/assets/colab-badge.svg\" alt=\"Open In Colab\"/></a>"
      ]
    },
    {
      "cell_type": "markdown",
      "metadata": {
        "id": "l-Cc40O3WPWY"
      },
      "source": [
        "What is the nicest city to live in?\r\n",
        "\r\n",
        "Notes\r\n",
        "*   warmest?\r\n",
        "*   least rain?\r\n",
        "*   has snow?\r\n",
        "*   score based on all attributes would be the most objective (maybe number of days could be a good counter and then rank/sort. must prioritise attributes)\r\n",
        "\r\n",
        "\r\n",
        "\r\n",
        "\r\n"
      ]
    },
    {
      "cell_type": "code",
      "metadata": {
        "id": "m9ZF-8XoF1lb"
      },
      "source": [
        "import pandas as pd\r\n"
      ],
      "execution_count": 108,
      "outputs": []
    },
    {
      "cell_type": "markdown",
      "metadata": {
        "id": "Jy5QluGLMadv"
      },
      "source": [
        "# experimenting with data"
      ]
    },
    {
      "cell_type": "code",
      "metadata": {
        "colab": {
          "base_uri": "https://localhost:8080/",
          "height": 204
        },
        "id": "PIVYhu5TGAeF",
        "outputId": "2dfa22ed-7882-433e-a0d5-b694407f18e6"
      },
      "source": [
        "inndf = pd.read_csv(r\"https://raw.githubusercontent.com/ds4geo/ds4geo/master/data/timeseries/meteo/Innsbruck_weather_2015-19.csv\")\r\n",
        "inndf.head()"
      ],
      "execution_count": 109,
      "outputs": [
        {
          "output_type": "execute_result",
          "data": {
            "text/html": [
              "<div>\n",
              "<style scoped>\n",
              "    .dataframe tbody tr th:only-of-type {\n",
              "        vertical-align: middle;\n",
              "    }\n",
              "\n",
              "    .dataframe tbody tr th {\n",
              "        vertical-align: top;\n",
              "    }\n",
              "\n",
              "    .dataframe thead th {\n",
              "        text-align: right;\n",
              "    }\n",
              "</style>\n",
              "<table border=\"1\" class=\"dataframe\">\n",
              "  <thead>\n",
              "    <tr style=\"text-align: right;\">\n",
              "      <th></th>\n",
              "      <th>date</th>\n",
              "      <th>mean_temp (deg C)</th>\n",
              "      <th>min_temp (deg C)</th>\n",
              "      <th>max_temp (deg C)</th>\n",
              "      <th>mean_pressure (mb)</th>\n",
              "      <th>mean_humidity (%)</th>\n",
              "      <th>mean_wind (ms-1)</th>\n",
              "      <th>precip_sum (mm)</th>\n",
              "      <th>month</th>\n",
              "      <th>month-year</th>\n",
              "      <th>year</th>\n",
              "    </tr>\n",
              "  </thead>\n",
              "  <tbody>\n",
              "    <tr>\n",
              "      <th>0</th>\n",
              "      <td>2015-01-01</td>\n",
              "      <td>-3.137500</td>\n",
              "      <td>-7.4</td>\n",
              "      <td>1.0</td>\n",
              "      <td>724.241667</td>\n",
              "      <td>92.458333</td>\n",
              "      <td>1.166667</td>\n",
              "      <td>0.0</td>\n",
              "      <td>Jan</td>\n",
              "      <td>Jan-2015</td>\n",
              "      <td>2015</td>\n",
              "    </tr>\n",
              "    <tr>\n",
              "      <th>1</th>\n",
              "      <td>2015-01-02</td>\n",
              "      <td>-3.341667</td>\n",
              "      <td>-9.2</td>\n",
              "      <td>1.5</td>\n",
              "      <td>721.975000</td>\n",
              "      <td>94.875000</td>\n",
              "      <td>1.125000</td>\n",
              "      <td>1.6</td>\n",
              "      <td>Jan</td>\n",
              "      <td>Jan-2015</td>\n",
              "      <td>2015</td>\n",
              "    </tr>\n",
              "    <tr>\n",
              "      <th>2</th>\n",
              "      <td>2015-01-03</td>\n",
              "      <td>1.458333</td>\n",
              "      <td>0.4</td>\n",
              "      <td>3.2</td>\n",
              "      <td>717.537500</td>\n",
              "      <td>96.833333</td>\n",
              "      <td>1.791667</td>\n",
              "      <td>13.1</td>\n",
              "      <td>Jan</td>\n",
              "      <td>Jan-2015</td>\n",
              "      <td>2015</td>\n",
              "    </tr>\n",
              "    <tr>\n",
              "      <th>3</th>\n",
              "      <td>2015-01-04</td>\n",
              "      <td>2.108333</td>\n",
              "      <td>-0.2</td>\n",
              "      <td>4.6</td>\n",
              "      <td>717.608333</td>\n",
              "      <td>79.291667</td>\n",
              "      <td>3.041667</td>\n",
              "      <td>25.9</td>\n",
              "      <td>Jan</td>\n",
              "      <td>Jan-2015</td>\n",
              "      <td>2015</td>\n",
              "    </tr>\n",
              "    <tr>\n",
              "      <th>4</th>\n",
              "      <td>2015-01-05</td>\n",
              "      <td>-0.841667</td>\n",
              "      <td>-5.3</td>\n",
              "      <td>2.4</td>\n",
              "      <td>721.662500</td>\n",
              "      <td>74.875000</td>\n",
              "      <td>2.666667</td>\n",
              "      <td>0.3</td>\n",
              "      <td>Jan</td>\n",
              "      <td>Jan-2015</td>\n",
              "      <td>2015</td>\n",
              "    </tr>\n",
              "  </tbody>\n",
              "</table>\n",
              "</div>"
            ],
            "text/plain": [
              "         date  mean_temp (deg C)  min_temp (deg C)  ...  month  month-year  year\n",
              "0  2015-01-01          -3.137500              -7.4  ...    Jan    Jan-2015  2015\n",
              "1  2015-01-02          -3.341667              -9.2  ...    Jan    Jan-2015  2015\n",
              "2  2015-01-03           1.458333               0.4  ...    Jan    Jan-2015  2015\n",
              "3  2015-01-04           2.108333              -0.2  ...    Jan    Jan-2015  2015\n",
              "4  2015-01-05          -0.841667              -5.3  ...    Jan    Jan-2015  2015\n",
              "\n",
              "[5 rows x 11 columns]"
            ]
          },
          "metadata": {
            "tags": []
          },
          "execution_count": 109
        }
      ]
    },
    {
      "cell_type": "code",
      "metadata": {
        "colab": {
          "base_uri": "https://localhost:8080/"
        },
        "id": "6NiFsEPbHlVd",
        "outputId": "9cdc757d-e8fd-4a2a-f3b6-c368c20705ac"
      },
      "source": [
        "len(inndf)"
      ],
      "execution_count": 110,
      "outputs": [
        {
          "output_type": "execute_result",
          "data": {
            "text/plain": [
              "1826"
            ]
          },
          "metadata": {
            "tags": []
          },
          "execution_count": 110
        }
      ]
    },
    {
      "cell_type": "code",
      "metadata": {
        "colab": {
          "base_uri": "https://localhost:8080/"
        },
        "id": "kCJk-1nB33bZ",
        "outputId": "62ebd522-641e-47f8-f1ac-23c2abe5e89f"
      },
      "source": [
        "inndf.dtypes"
      ],
      "execution_count": 111,
      "outputs": [
        {
          "output_type": "execute_result",
          "data": {
            "text/plain": [
              "date                   object\n",
              "mean_temp (deg C)     float64\n",
              "min_temp (deg C)      float64\n",
              "max_temp (deg C)      float64\n",
              "mean_pressure (mb)    float64\n",
              "mean_humidity (%)     float64\n",
              "mean_wind (ms-1)      float64\n",
              "precip_sum (mm)       float64\n",
              "month                  object\n",
              "month-year             object\n",
              "year                    int64\n",
              "dtype: object"
            ]
          },
          "metadata": {
            "tags": []
          },
          "execution_count": 111
        }
      ]
    },
    {
      "cell_type": "code",
      "metadata": {
        "colab": {
          "base_uri": "https://localhost:8080/"
        },
        "id": "DaQvuEYHENiP",
        "outputId": "b085d0e2-a1e6-4692-a173-f30f48b6a137"
      },
      "source": [
        "inndf['year'].value_counts()"
      ],
      "execution_count": 131,
      "outputs": [
        {
          "output_type": "execute_result",
          "data": {
            "text/plain": [
              "2016    366\n",
              "2019    365\n",
              "2018    365\n",
              "2017    365\n",
              "2015    365\n",
              "Name: year, dtype: int64"
            ]
          },
          "metadata": {
            "tags": []
          },
          "execution_count": 131
        }
      ]
    },
    {
      "cell_type": "code",
      "metadata": {
        "colab": {
          "base_uri": "https://localhost:8080/"
        },
        "id": "SZtWNWx07Fcd",
        "outputId": "19c0cdef-10c8-423f-ef57-a484b19a4dc7"
      },
      "source": [
        "#no. of days without rain (annual average)\r\n",
        "inn_sun = len(inndf[inndf['precip_sum (mm)'] == 0.0]) /5\r\n",
        "lon_sun = len(londf[londf['precip_sum (mm)'] == 0.0]) /5\r\n",
        "print(lon_sun, inn_sun)"
      ],
      "execution_count": 126,
      "outputs": [
        {
          "output_type": "stream",
          "text": [
            "198.0 165.8\n"
          ],
          "name": "stdout"
        }
      ]
    },
    {
      "cell_type": "code",
      "metadata": {
        "colab": {
          "base_uri": "https://localhost:8080/",
          "height": 452
        },
        "id": "lxlt5cmEqRt7",
        "outputId": "ec2104bc-d5fd-4f1f-a460-bb51e7430e7c"
      },
      "source": [
        "#get average day by month\r\n",
        "inndf_months = inndf.groupby('month').mean()\r\n",
        "\r\n",
        "#need to order months\r\n",
        "month_ordered = ['Jan', 'Feb', 'Mar', 'Apr', 'May', 'Jun', 'Jul', 'Aug', 'Sep', 'Oct', 'Nov', 'Dec']\r\n",
        "inndf_months = inndf_months.reindex(month_ordered)\r\n",
        "inndf_months"
      ],
      "execution_count": 114,
      "outputs": [
        {
          "output_type": "execute_result",
          "data": {
            "text/html": [
              "<div>\n",
              "<style scoped>\n",
              "    .dataframe tbody tr th:only-of-type {\n",
              "        vertical-align: middle;\n",
              "    }\n",
              "\n",
              "    .dataframe tbody tr th {\n",
              "        vertical-align: top;\n",
              "    }\n",
              "\n",
              "    .dataframe thead th {\n",
              "        text-align: right;\n",
              "    }\n",
              "</style>\n",
              "<table border=\"1\" class=\"dataframe\">\n",
              "  <thead>\n",
              "    <tr style=\"text-align: right;\">\n",
              "      <th></th>\n",
              "      <th>mean_temp (deg C)</th>\n",
              "      <th>min_temp (deg C)</th>\n",
              "      <th>max_temp (deg C)</th>\n",
              "      <th>mean_pressure (mb)</th>\n",
              "      <th>mean_humidity (%)</th>\n",
              "      <th>mean_wind (ms-1)</th>\n",
              "      <th>precip_sum (mm)</th>\n",
              "      <th>year</th>\n",
              "    </tr>\n",
              "    <tr>\n",
              "      <th>month</th>\n",
              "      <th></th>\n",
              "      <th></th>\n",
              "      <th></th>\n",
              "      <th></th>\n",
              "      <th></th>\n",
              "      <th></th>\n",
              "      <th></th>\n",
              "      <th></th>\n",
              "    </tr>\n",
              "  </thead>\n",
              "  <tbody>\n",
              "    <tr>\n",
              "      <th>Jan</th>\n",
              "      <td>-1.036986</td>\n",
              "      <td>-4.572258</td>\n",
              "      <td>3.523226</td>\n",
              "      <td>710.995404</td>\n",
              "      <td>84.563344</td>\n",
              "      <td>2.028521</td>\n",
              "      <td>7.080000</td>\n",
              "      <td>2017.000000</td>\n",
              "    </tr>\n",
              "    <tr>\n",
              "      <th>Feb</th>\n",
              "      <td>1.459536</td>\n",
              "      <td>-2.696454</td>\n",
              "      <td>7.192199</td>\n",
              "      <td>710.668417</td>\n",
              "      <td>77.120303</td>\n",
              "      <td>2.071454</td>\n",
              "      <td>3.158865</td>\n",
              "      <td>2016.992908</td>\n",
              "    </tr>\n",
              "    <tr>\n",
              "      <th>Mar</th>\n",
              "      <td>6.061640</td>\n",
              "      <td>0.803871</td>\n",
              "      <td>12.434839</td>\n",
              "      <td>709.293662</td>\n",
              "      <td>69.261675</td>\n",
              "      <td>2.447647</td>\n",
              "      <td>4.507097</td>\n",
              "      <td>2017.000000</td>\n",
              "    </tr>\n",
              "    <tr>\n",
              "      <th>Apr</th>\n",
              "      <td>10.601215</td>\n",
              "      <td>4.645333</td>\n",
              "      <td>16.982667</td>\n",
              "      <td>710.002559</td>\n",
              "      <td>64.274459</td>\n",
              "      <td>2.805385</td>\n",
              "      <td>5.587333</td>\n",
              "      <td>2017.000000</td>\n",
              "    </tr>\n",
              "    <tr>\n",
              "      <th>May</th>\n",
              "      <td>14.001605</td>\n",
              "      <td>8.596129</td>\n",
              "      <td>20.202581</td>\n",
              "      <td>709.830970</td>\n",
              "      <td>69.726098</td>\n",
              "      <td>2.369585</td>\n",
              "      <td>10.334839</td>\n",
              "      <td>2017.000000</td>\n",
              "    </tr>\n",
              "    <tr>\n",
              "      <th>Jun</th>\n",
              "      <td>18.983879</td>\n",
              "      <td>13.187333</td>\n",
              "      <td>25.584000</td>\n",
              "      <td>711.072269</td>\n",
              "      <td>68.044504</td>\n",
              "      <td>2.257706</td>\n",
              "      <td>11.106667</td>\n",
              "      <td>2017.000000</td>\n",
              "    </tr>\n",
              "    <tr>\n",
              "      <th>Jul</th>\n",
              "      <td>19.910417</td>\n",
              "      <td>14.322581</td>\n",
              "      <td>26.470323</td>\n",
              "      <td>711.496566</td>\n",
              "      <td>70.569659</td>\n",
              "      <td>1.934507</td>\n",
              "      <td>11.485806</td>\n",
              "      <td>2017.000000</td>\n",
              "    </tr>\n",
              "    <tr>\n",
              "      <th>Aug</th>\n",
              "      <td>19.554905</td>\n",
              "      <td>13.970323</td>\n",
              "      <td>26.247097</td>\n",
              "      <td>712.556892</td>\n",
              "      <td>72.964836</td>\n",
              "      <td>2.022288</td>\n",
              "      <td>14.955484</td>\n",
              "      <td>2017.000000</td>\n",
              "    </tr>\n",
              "    <tr>\n",
              "      <th>Sep</th>\n",
              "      <td>14.570158</td>\n",
              "      <td>9.645333</td>\n",
              "      <td>20.586000</td>\n",
              "      <td>712.863897</td>\n",
              "      <td>76.828923</td>\n",
              "      <td>1.865618</td>\n",
              "      <td>9.295333</td>\n",
              "      <td>2017.000000</td>\n",
              "    </tr>\n",
              "    <tr>\n",
              "      <th>Oct</th>\n",
              "      <td>10.473568</td>\n",
              "      <td>5.712258</td>\n",
              "      <td>16.565806</td>\n",
              "      <td>712.652404</td>\n",
              "      <td>77.592183</td>\n",
              "      <td>2.229946</td>\n",
              "      <td>5.921935</td>\n",
              "      <td>2017.000000</td>\n",
              "    </tr>\n",
              "    <tr>\n",
              "      <th>Nov</th>\n",
              "      <td>5.024660</td>\n",
              "      <td>0.966667</td>\n",
              "      <td>9.968000</td>\n",
              "      <td>710.184243</td>\n",
              "      <td>80.483692</td>\n",
              "      <td>2.308526</td>\n",
              "      <td>4.234000</td>\n",
              "      <td>2017.000000</td>\n",
              "    </tr>\n",
              "    <tr>\n",
              "      <th>Dec</th>\n",
              "      <td>0.367959</td>\n",
              "      <td>-3.310968</td>\n",
              "      <td>5.578065</td>\n",
              "      <td>715.211790</td>\n",
              "      <td>83.579367</td>\n",
              "      <td>1.699555</td>\n",
              "      <td>4.063226</td>\n",
              "      <td>2017.000000</td>\n",
              "    </tr>\n",
              "  </tbody>\n",
              "</table>\n",
              "</div>"
            ],
            "text/plain": [
              "       mean_temp (deg C)  min_temp (deg C)  ...  precip_sum (mm)         year\n",
              "month                                       ...                              \n",
              "Jan            -1.036986         -4.572258  ...         7.080000  2017.000000\n",
              "Feb             1.459536         -2.696454  ...         3.158865  2016.992908\n",
              "Mar             6.061640          0.803871  ...         4.507097  2017.000000\n",
              "Apr            10.601215          4.645333  ...         5.587333  2017.000000\n",
              "May            14.001605          8.596129  ...        10.334839  2017.000000\n",
              "Jun            18.983879         13.187333  ...        11.106667  2017.000000\n",
              "Jul            19.910417         14.322581  ...        11.485806  2017.000000\n",
              "Aug            19.554905         13.970323  ...        14.955484  2017.000000\n",
              "Sep            14.570158          9.645333  ...         9.295333  2017.000000\n",
              "Oct            10.473568          5.712258  ...         5.921935  2017.000000\n",
              "Nov             5.024660          0.966667  ...         4.234000  2017.000000\n",
              "Dec             0.367959         -3.310968  ...         4.063226  2017.000000\n",
              "\n",
              "[12 rows x 8 columns]"
            ]
          },
          "metadata": {
            "tags": []
          },
          "execution_count": 114
        }
      ]
    },
    {
      "cell_type": "code",
      "metadata": {
        "id": "Z-LUtGgvK-a7",
        "colab": {
          "base_uri": "https://localhost:8080/",
          "height": 558
        },
        "outputId": "936ad05a-5873-4449-ff0b-23e912830d18"
      },
      "source": [
        "inndf_months.plot(y=['mean_temp (deg C)', 'precip_sum (mm)'])\r\n",
        "londf_months.plot(y=['mean_temp (deg C)', 'precip_sum (mm)'])"
      ],
      "execution_count": 121,
      "outputs": [
        {
          "output_type": "execute_result",
          "data": {
            "text/plain": [
              "<matplotlib.axes._subplots.AxesSubplot at 0x7f447c25df98>"
            ]
          },
          "metadata": {
            "tags": []
          },
          "execution_count": 121
        },
        {
          "output_type": "display_data",
          "data": {
            "image/png": "[encoded data removed]",
            "text/plain": [
              "<Figure size 432x288 with 1 Axes>"
            ]
          },
          "metadata": {
            "tags": [],
            "needs_background": "light"
          }
        },
        {
          "output_type": "display_data",
          "data": {
            "image/png": "[encoded data removed]",
            "text/plain": [
              "<Figure size 432x288 with 1 Axes>"
            ]
          },
          "metadata": {
            "tags": [],
            "needs_background": "light"
          }
        }
      ]
    },
    {
      "cell_type": "markdown",
      "metadata": {
        "id": "IM8RMDgrae4g"
      },
      "source": [
        "more ideas on what to look into:\r\n",
        "\r\n",
        "\r\n",
        "*   days of snow (need to look into conditions)\r\n",
        "*   compare average temps (one graph)\r\n",
        "*   days of rain\r\n",
        "*   sort by priority. i.e. lowest rainfall, highest temp, lowest wind speed\r\n",
        "\r\n",
        "\r\n",
        "\r\n"
      ]
    },
    {
      "cell_type": "markdown",
      "metadata": {
        "id": "DA7OirvpMv6j"
      },
      "source": [
        ""
      ]
    },
    {
      "cell_type": "markdown",
      "metadata": {
        "id": "zeqth8gdMwuG"
      },
      "source": [
        "#load other city data"
      ]
    },
    {
      "cell_type": "code",
      "metadata": {
        "id": "QFvcmkKeWC1R"
      },
      "source": [
        "londf = pd.read_csv(r\"https://raw.githubusercontent.com/ds4geo/ds4geo/master/data/timeseries/meteo/London_weather_2015-19.csv\")\r\n",
        "londf_months = londf.groupby('month').mean().reindex(month_ordered)"
      ],
      "execution_count": 119,
      "outputs": []
    },
    {
      "cell_type": "code",
      "metadata": {
        "colab": {
          "base_uri": "https://localhost:8080/",
          "height": 483
        },
        "id": "bBgDe5vyuvTj",
        "outputId": "bbbec141-8baf-4147-950c-e0aea656b2f2"
      },
      "source": [
        "inndf_months.compare(londf_months, keep_equal=True)"
      ],
      "execution_count": 120,
      "outputs": [
        {
          "output_type": "execute_result",
          "data": {
            "text/html": [
              "<div>\n",
              "<style scoped>\n",
              "    .dataframe tbody tr th:only-of-type {\n",
              "        vertical-align: middle;\n",
              "    }\n",
              "\n",
              "    .dataframe tbody tr th {\n",
              "        vertical-align: top;\n",
              "    }\n",
              "\n",
              "    .dataframe thead tr th {\n",
              "        text-align: left;\n",
              "    }\n",
              "\n",
              "    .dataframe thead tr:last-of-type th {\n",
              "        text-align: right;\n",
              "    }\n",
              "</style>\n",
              "<table border=\"1\" class=\"dataframe\">\n",
              "  <thead>\n",
              "    <tr>\n",
              "      <th></th>\n",
              "      <th colspan=\"2\" halign=\"left\">mean_temp (deg C)</th>\n",
              "      <th colspan=\"2\" halign=\"left\">min_temp (deg C)</th>\n",
              "      <th colspan=\"2\" halign=\"left\">max_temp (deg C)</th>\n",
              "      <th colspan=\"2\" halign=\"left\">mean_pressure (mb)</th>\n",
              "      <th colspan=\"2\" halign=\"left\">mean_humidity (%)</th>\n",
              "      <th colspan=\"2\" halign=\"left\">mean_wind (ms-1)</th>\n",
              "      <th colspan=\"2\" halign=\"left\">precip_sum (mm)</th>\n",
              "      <th colspan=\"2\" halign=\"left\">year</th>\n",
              "    </tr>\n",
              "    <tr>\n",
              "      <th></th>\n",
              "      <th>self</th>\n",
              "      <th>other</th>\n",
              "      <th>self</th>\n",
              "      <th>other</th>\n",
              "      <th>self</th>\n",
              "      <th>other</th>\n",
              "      <th>self</th>\n",
              "      <th>other</th>\n",
              "      <th>self</th>\n",
              "      <th>other</th>\n",
              "      <th>self</th>\n",
              "      <th>other</th>\n",
              "      <th>self</th>\n",
              "      <th>other</th>\n",
              "      <th>self</th>\n",
              "      <th>other</th>\n",
              "    </tr>\n",
              "    <tr>\n",
              "      <th>month</th>\n",
              "      <th></th>\n",
              "      <th></th>\n",
              "      <th></th>\n",
              "      <th></th>\n",
              "      <th></th>\n",
              "      <th></th>\n",
              "      <th></th>\n",
              "      <th></th>\n",
              "      <th></th>\n",
              "      <th></th>\n",
              "      <th></th>\n",
              "      <th></th>\n",
              "      <th></th>\n",
              "      <th></th>\n",
              "      <th></th>\n",
              "      <th></th>\n",
              "    </tr>\n",
              "  </thead>\n",
              "  <tbody>\n",
              "    <tr>\n",
              "      <th>Jan</th>\n",
              "      <td>-1.036986</td>\n",
              "      <td>5.452045</td>\n",
              "      <td>-4.572258</td>\n",
              "      <td>2.170323</td>\n",
              "      <td>3.523226</td>\n",
              "      <td>8.486452</td>\n",
              "      <td>710.995404</td>\n",
              "      <td>759.047569</td>\n",
              "      <td>84.563344</td>\n",
              "      <td>83.969628</td>\n",
              "      <td>2.028521</td>\n",
              "      <td>4.520082</td>\n",
              "      <td>7.080000</td>\n",
              "      <td>2.601290</td>\n",
              "      <td>2017.000000</td>\n",
              "      <td>2017.000000</td>\n",
              "    </tr>\n",
              "    <tr>\n",
              "      <th>Feb</th>\n",
              "      <td>1.459536</td>\n",
              "      <td>5.888956</td>\n",
              "      <td>-2.696454</td>\n",
              "      <td>2.643262</td>\n",
              "      <td>7.192199</td>\n",
              "      <td>9.282979</td>\n",
              "      <td>710.668417</td>\n",
              "      <td>759.464393</td>\n",
              "      <td>77.120303</td>\n",
              "      <td>80.577975</td>\n",
              "      <td>2.071454</td>\n",
              "      <td>4.467551</td>\n",
              "      <td>3.158865</td>\n",
              "      <td>1.994326</td>\n",
              "      <td>2016.992908</td>\n",
              "      <td>2016.992908</td>\n",
              "    </tr>\n",
              "    <tr>\n",
              "      <th>Mar</th>\n",
              "      <td>6.061640</td>\n",
              "      <td>7.928891</td>\n",
              "      <td>0.803871</td>\n",
              "      <td>4.552667</td>\n",
              "      <td>12.434839</td>\n",
              "      <td>11.810000</td>\n",
              "      <td>709.293662</td>\n",
              "      <td>758.189557</td>\n",
              "      <td>69.261675</td>\n",
              "      <td>76.876010</td>\n",
              "      <td>2.447647</td>\n",
              "      <td>4.769790</td>\n",
              "      <td>4.507097</td>\n",
              "      <td>2.336000</td>\n",
              "      <td>2017.000000</td>\n",
              "      <td>2017.066667</td>\n",
              "    </tr>\n",
              "    <tr>\n",
              "      <th>Apr</th>\n",
              "      <td>10.601215</td>\n",
              "      <td>10.405160</td>\n",
              "      <td>4.645333</td>\n",
              "      <td>6.032000</td>\n",
              "      <td>16.982667</td>\n",
              "      <td>15.349333</td>\n",
              "      <td>710.002559</td>\n",
              "      <td>760.006455</td>\n",
              "      <td>64.274459</td>\n",
              "      <td>70.594834</td>\n",
              "      <td>2.805385</td>\n",
              "      <td>3.937399</td>\n",
              "      <td>5.587333</td>\n",
              "      <td>1.433333</td>\n",
              "      <td>2017.000000</td>\n",
              "      <td>2017.000000</td>\n",
              "    </tr>\n",
              "    <tr>\n",
              "      <th>May</th>\n",
              "      <td>14.001605</td>\n",
              "      <td>13.945328</td>\n",
              "      <td>8.596129</td>\n",
              "      <td>9.387742</td>\n",
              "      <td>20.202581</td>\n",
              "      <td>19.108387</td>\n",
              "      <td>709.830970</td>\n",
              "      <td>759.972213</td>\n",
              "      <td>69.726098</td>\n",
              "      <td>69.518787</td>\n",
              "      <td>2.369585</td>\n",
              "      <td>4.023179</td>\n",
              "      <td>10.334839</td>\n",
              "      <td>2.233548</td>\n",
              "      <td>2017.000000</td>\n",
              "      <td>2017.000000</td>\n",
              "    </tr>\n",
              "    <tr>\n",
              "      <th>Jun</th>\n",
              "      <td>18.983879</td>\n",
              "      <td>17.205025</td>\n",
              "      <td>13.187333</td>\n",
              "      <td>12.597333</td>\n",
              "      <td>25.584000</td>\n",
              "      <td>22.528667</td>\n",
              "      <td>711.072269</td>\n",
              "      <td>760.063668</td>\n",
              "      <td>68.044504</td>\n",
              "      <td>69.837063</td>\n",
              "      <td>2.257706</td>\n",
              "      <td>4.277428</td>\n",
              "      <td>11.106667</td>\n",
              "      <td>2.381333</td>\n",
              "      <td>2017.000000</td>\n",
              "      <td>2017.000000</td>\n",
              "    </tr>\n",
              "    <tr>\n",
              "      <th>Jul</th>\n",
              "      <td>19.910417</td>\n",
              "      <td>19.583573</td>\n",
              "      <td>14.322581</td>\n",
              "      <td>14.866452</td>\n",
              "      <td>26.470323</td>\n",
              "      <td>25.020000</td>\n",
              "      <td>711.496566</td>\n",
              "      <td>759.527604</td>\n",
              "      <td>70.569659</td>\n",
              "      <td>65.276267</td>\n",
              "      <td>1.934507</td>\n",
              "      <td>4.183529</td>\n",
              "      <td>11.485806</td>\n",
              "      <td>2.394839</td>\n",
              "      <td>2017.000000</td>\n",
              "      <td>2017.000000</td>\n",
              "    </tr>\n",
              "    <tr>\n",
              "      <th>Aug</th>\n",
              "      <td>19.554905</td>\n",
              "      <td>18.449890</td>\n",
              "      <td>13.970323</td>\n",
              "      <td>14.087097</td>\n",
              "      <td>26.247097</td>\n",
              "      <td>23.680645</td>\n",
              "      <td>712.556892</td>\n",
              "      <td>759.849124</td>\n",
              "      <td>72.964836</td>\n",
              "      <td>70.730940</td>\n",
              "      <td>2.022288</td>\n",
              "      <td>4.091937</td>\n",
              "      <td>14.955484</td>\n",
              "      <td>2.714839</td>\n",
              "      <td>2017.000000</td>\n",
              "      <td>2017.000000</td>\n",
              "    </tr>\n",
              "    <tr>\n",
              "      <th>Sep</th>\n",
              "      <td>14.570158</td>\n",
              "      <td>15.556601</td>\n",
              "      <td>9.645333</td>\n",
              "      <td>11.391333</td>\n",
              "      <td>20.586000</td>\n",
              "      <td>20.480000</td>\n",
              "      <td>712.863897</td>\n",
              "      <td>760.780904</td>\n",
              "      <td>76.828923</td>\n",
              "      <td>74.847995</td>\n",
              "      <td>1.865618</td>\n",
              "      <td>3.991965</td>\n",
              "      <td>9.295333</td>\n",
              "      <td>2.246667</td>\n",
              "      <td>2017.000000</td>\n",
              "      <td>2017.000000</td>\n",
              "    </tr>\n",
              "    <tr>\n",
              "      <th>Oct</th>\n",
              "      <td>10.473568</td>\n",
              "      <td>12.279683</td>\n",
              "      <td>5.712258</td>\n",
              "      <td>8.874194</td>\n",
              "      <td>16.565806</td>\n",
              "      <td>16.157419</td>\n",
              "      <td>712.652404</td>\n",
              "      <td>760.885744</td>\n",
              "      <td>77.592183</td>\n",
              "      <td>81.077863</td>\n",
              "      <td>2.229946</td>\n",
              "      <td>3.864467</td>\n",
              "      <td>5.921935</td>\n",
              "      <td>2.256774</td>\n",
              "      <td>2017.000000</td>\n",
              "      <td>2017.000000</td>\n",
              "    </tr>\n",
              "    <tr>\n",
              "      <th>Nov</th>\n",
              "      <td>5.024660</td>\n",
              "      <td>8.424954</td>\n",
              "      <td>0.966667</td>\n",
              "      <td>5.296667</td>\n",
              "      <td>9.968000</td>\n",
              "      <td>11.449333</td>\n",
              "      <td>710.184243</td>\n",
              "      <td>756.737416</td>\n",
              "      <td>80.483692</td>\n",
              "      <td>85.379357</td>\n",
              "      <td>2.308526</td>\n",
              "      <td>4.239466</td>\n",
              "      <td>4.234000</td>\n",
              "      <td>2.818667</td>\n",
              "      <td>2017.000000</td>\n",
              "      <td>2017.000000</td>\n",
              "    </tr>\n",
              "    <tr>\n",
              "      <th>Dec</th>\n",
              "      <td>0.367959</td>\n",
              "      <td>7.878952</td>\n",
              "      <td>-3.310968</td>\n",
              "      <td>4.832258</td>\n",
              "      <td>5.578065</td>\n",
              "      <td>10.560645</td>\n",
              "      <td>715.211790</td>\n",
              "      <td>760.626703</td>\n",
              "      <td>83.579367</td>\n",
              "      <td>86.519029</td>\n",
              "      <td>1.699555</td>\n",
              "      <td>4.672482</td>\n",
              "      <td>4.063226</td>\n",
              "      <td>2.921290</td>\n",
              "      <td>2017.000000</td>\n",
              "      <td>2017.000000</td>\n",
              "    </tr>\n",
              "  </tbody>\n",
              "</table>\n",
              "</div>"
            ],
            "text/plain": [
              "      mean_temp (deg C)             ...         year             \n",
              "                   self      other  ...         self        other\n",
              "month                               ...                          \n",
              "Jan           -1.036986   5.452045  ...  2017.000000  2017.000000\n",
              "Feb            1.459536   5.888956  ...  2016.992908  2016.992908\n",
              "Mar            6.061640   7.928891  ...  2017.000000  2017.066667\n",
              "Apr           10.601215  10.405160  ...  2017.000000  2017.000000\n",
              "May           14.001605  13.945328  ...  2017.000000  2017.000000\n",
              "Jun           18.983879  17.205025  ...  2017.000000  2017.000000\n",
              "Jul           19.910417  19.583573  ...  2017.000000  2017.000000\n",
              "Aug           19.554905  18.449890  ...  2017.000000  2017.000000\n",
              "Sep           14.570158  15.556601  ...  2017.000000  2017.000000\n",
              "Oct           10.473568  12.279683  ...  2017.000000  2017.000000\n",
              "Nov            5.024660   8.424954  ...  2017.000000  2017.000000\n",
              "Dec            0.367959   7.878952  ...  2017.000000  2017.000000\n",
              "\n",
              "[12 rows x 16 columns]"
            ]
          },
          "metadata": {
            "tags": []
          },
          "execution_count": 120
        }
      ]
    },
    {
      "cell_type": "code",
      "metadata": {
        "id": "lmQwMkRt11Cy"
      },
      "source": [
        ""
      ],
      "execution_count": null,
      "outputs": []
    }
  ]
}